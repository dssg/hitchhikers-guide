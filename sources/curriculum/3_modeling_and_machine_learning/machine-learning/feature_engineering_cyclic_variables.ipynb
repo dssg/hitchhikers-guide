{
 "cells": [
  {
   "cell_type": "markdown",
   "metadata": {},
   "source": [
    "### Feature engineering \n",
    "\n",
    "#### Cyclical features\n",
    "\n",
    "Variables normally treated as ordinals but that represents a cycle:\n",
    "\n",
    "+ Time: minutes, hours, seconds\n",
    "+ Day of the week\n",
    "+ Month of the year\n",
    "+ Week of the month\n",
    "+ Week of the year\n",
    "+ Season\n",
    "\n",
    "Most of the times when we want to use these kind of features in an algorithm we use their ordinal representation. By doing this, we lack to include their nature of being part of a cycle and so to configure that the first value of a cyclical feature is **near** the last value of the same variable. For example: \n",
    "\n",
    "- December is near January\n",
    "- 23:00 is near 3:00 \n",
    "- Sunday is near Monday\n",
    "\n",
    "The best way to deal with these kind of variables is to make a transformation that includes this characteristics of being cyclical using the Sine and Cosine wave functions. "
   ]
  },
  {
   "cell_type": "code",
   "execution_count": 15,
   "metadata": {
    "ExecuteTime": {
     "end_time": "2019-06-30T21:58:25.138148Z",
     "start_time": "2019-06-30T21:58:25.121908Z"
    }
   },
   "outputs": [],
   "source": [
    "%matplotlib inline\n",
    "\n",
    "import seaborn as sns\n",
    "import matplotlib.pyplot as plt\n",
    "import numpy as np\n",
    "import pandas as pd"
   ]
  },
  {
   "cell_type": "code",
   "execution_count": 30,
   "metadata": {
    "ExecuteTime": {
     "end_time": "2019-06-30T22:11:04.541748Z",
     "start_time": "2019-06-30T22:11:04.009077Z"
    },
    "scrolled": true
   },
   "outputs": [
    {
     "data": {
      "text/plain": [
       "Text(0.5,0,'observation number')"
      ]
     },
     "execution_count": 30,
     "metadata": {},
     "output_type": "execute_result"
    },
    {
     "data": {
      "image/png": "[encoded data removed]",
      "text/plain": [
       "<matplotlib.figure.Figure at 0x7fc626df4780>"
      ]
     },
     "metadata": {},
     "output_type": "display_data"
    }
   ],
   "source": [
    "# generate some random hours\n",
    "hours = list(np.random.choice(a=24, size=15, replace=False))\n",
    "df = pd.DataFrame({'hour': hours})\n",
    "# to visualize it better\n",
    "df = df.sort_values('hour').reset_index(drop=True)\n",
    "\n",
    "df.plot()\n",
    "plt.ylabel('hour')\n",
    "plt.xlabel('observation number')"
   ]
  },
  {
   "cell_type": "markdown",
   "metadata": {},
   "source": [
    "Lest get the sine and cosine for each hour."
   ]
  },
  {
   "cell_type": "code",
   "execution_count": 17,
   "metadata": {
    "ExecuteTime": {
     "end_time": "2019-06-30T21:58:26.205447Z",
     "start_time": "2019-06-30T21:58:26.149449Z"
    }
   },
   "outputs": [
    {
     "data": {
      "text/html": [
       "<div>\n",
       "<style scoped>\n",
       "    .dataframe tbody tr th:only-of-type {\n",
       "        vertical-align: middle;\n",
       "    }\n",
       "\n",
       "    .dataframe tbody tr th {\n",
       "        vertical-align: top;\n",
       "    }\n",
       "\n",
       "    .dataframe thead th {\n",
       "        text-align: right;\n",
       "    }\n",
       "</style>\n",
       "<table border=\"1\" class=\"dataframe\">\n",
       "  <thead>\n",
       "    <tr style=\"text-align: right;\">\n",
       "      <th></th>\n",
       "      <th>hour</th>\n",
       "      <th>sin_hr</th>\n",
       "      <th>cos_hr</th>\n",
       "    </tr>\n",
       "  </thead>\n",
       "  <tbody>\n",
       "    <tr>\n",
       "      <th>0</th>\n",
       "      <td>0</td>\n",
       "      <td>0.000000e+00</td>\n",
       "      <td>1.000000</td>\n",
       "    </tr>\n",
       "    <tr>\n",
       "      <th>1</th>\n",
       "      <td>2</td>\n",
       "      <td>5.000000e-01</td>\n",
       "      <td>0.866025</td>\n",
       "    </tr>\n",
       "    <tr>\n",
       "      <th>2</th>\n",
       "      <td>4</td>\n",
       "      <td>8.660254e-01</td>\n",
       "      <td>0.500000</td>\n",
       "    </tr>\n",
       "    <tr>\n",
       "      <th>3</th>\n",
       "      <td>5</td>\n",
       "      <td>9.659258e-01</td>\n",
       "      <td>0.258819</td>\n",
       "    </tr>\n",
       "    <tr>\n",
       "      <th>4</th>\n",
       "      <td>7</td>\n",
       "      <td>9.659258e-01</td>\n",
       "      <td>-0.258819</td>\n",
       "    </tr>\n",
       "    <tr>\n",
       "      <th>5</th>\n",
       "      <td>8</td>\n",
       "      <td>8.660254e-01</td>\n",
       "      <td>-0.500000</td>\n",
       "    </tr>\n",
       "    <tr>\n",
       "      <th>6</th>\n",
       "      <td>9</td>\n",
       "      <td>7.071068e-01</td>\n",
       "      <td>-0.707107</td>\n",
       "    </tr>\n",
       "    <tr>\n",
       "      <th>7</th>\n",
       "      <td>10</td>\n",
       "      <td>5.000000e-01</td>\n",
       "      <td>-0.866025</td>\n",
       "    </tr>\n",
       "    <tr>\n",
       "      <th>8</th>\n",
       "      <td>11</td>\n",
       "      <td>2.588190e-01</td>\n",
       "      <td>-0.965926</td>\n",
       "    </tr>\n",
       "    <tr>\n",
       "      <th>9</th>\n",
       "      <td>12</td>\n",
       "      <td>1.224647e-16</td>\n",
       "      <td>-1.000000</td>\n",
       "    </tr>\n",
       "    <tr>\n",
       "      <th>10</th>\n",
       "      <td>14</td>\n",
       "      <td>-5.000000e-01</td>\n",
       "      <td>-0.866025</td>\n",
       "    </tr>\n",
       "    <tr>\n",
       "      <th>11</th>\n",
       "      <td>19</td>\n",
       "      <td>-9.659258e-01</td>\n",
       "      <td>0.258819</td>\n",
       "    </tr>\n",
       "    <tr>\n",
       "      <th>12</th>\n",
       "      <td>20</td>\n",
       "      <td>-8.660254e-01</td>\n",
       "      <td>0.500000</td>\n",
       "    </tr>\n",
       "    <tr>\n",
       "      <th>13</th>\n",
       "      <td>21</td>\n",
       "      <td>-7.071068e-01</td>\n",
       "      <td>0.707107</td>\n",
       "    </tr>\n",
       "    <tr>\n",
       "      <th>14</th>\n",
       "      <td>22</td>\n",
       "      <td>-5.000000e-01</td>\n",
       "      <td>0.866025</td>\n",
       "    </tr>\n",
       "  </tbody>\n",
       "</table>\n",
       "</div>"
      ],
      "text/plain": [
       "    hour        sin_hr    cos_hr\n",
       "0      0  0.000000e+00  1.000000\n",
       "1      2  5.000000e-01  0.866025\n",
       "2      4  8.660254e-01  0.500000\n",
       "3      5  9.659258e-01  0.258819\n",
       "4      7  9.659258e-01 -0.258819\n",
       "5      8  8.660254e-01 -0.500000\n",
       "6      9  7.071068e-01 -0.707107\n",
       "7     10  5.000000e-01 -0.866025\n",
       "8     11  2.588190e-01 -0.965926\n",
       "9     12  1.224647e-16 -1.000000\n",
       "10    14 -5.000000e-01 -0.866025\n",
       "11    19 -9.659258e-01  0.258819\n",
       "12    20 -8.660254e-01  0.500000\n",
       "13    21 -7.071068e-01  0.707107\n",
       "14    22 -5.000000e-01  0.866025"
      ]
     },
     "execution_count": 17,
     "metadata": {},
     "output_type": "execute_result"
    }
   ],
   "source": [
    "HOURS = 24\n",
    "\n",
    "df['sin_hr'] = np.sin(2*np.pi*df.hour/HOURS)\n",
    "df['cos_hr'] = np.cos(2*np.pi*df.hour/HOURS)\n",
    "\n",
    "df"
   ]
  },
  {
   "cell_type": "markdown",
   "metadata": {},
   "source": [
    "If you only use the sine transformation you will end up having 2 different values for each point of your original cyclical feature. For example, the sine transformation for the 11:00 hour corresponds to 0.25, but have to different values on the sine wave (if you use the 24 different values for an hour your sine wave will look prettier)."
   ]
  },
  {
   "cell_type": "code",
   "execution_count": 20,
   "metadata": {
    "ExecuteTime": {
     "end_time": "2019-06-30T21:59:10.538782Z",
     "start_time": "2019-06-30T21:59:09.957189Z"
    }
   },
   "outputs": [
    {
     "data": {
      "text/plain": [
       "Text(0.5,1,'sine transformation')"
      ]
     },
     "execution_count": 20,
     "metadata": {},
     "output_type": "execute_result"
    },
    {
     "data": {
      "image/png": "[encoded data removed]",
      "text/plain": [
       "<matplotlib.figure.Figure at 0x7fc626ebcb38>"
      ]
     },
     "metadata": {},
     "output_type": "display_data"
    }
   ],
   "source": [
    "df.sin_hr.plot()\n",
    "plt.hlines(0.25, 0, 14, colors='r')\n",
    "plt.ylabel('sine')\n",
    "plt.xlabel('hour of the day')\n",
    "plt.title('sine transformation')"
   ]
  },
  {
   "cell_type": "markdown",
   "metadata": {},
   "source": [
    "We need to have only 1 value per observation, that is why we also need the cosine transformation. "
   ]
  },
  {
   "cell_type": "code",
   "execution_count": 21,
   "metadata": {
    "ExecuteTime": {
     "end_time": "2019-06-30T21:59:16.582546Z",
     "start_time": "2019-06-30T21:59:15.974686Z"
    }
   },
   "outputs": [
    {
     "data": {
      "text/plain": [
       "Text(0.5,1,'cosine transformation')"
      ]
     },
     "execution_count": 21,
     "metadata": {},
     "output_type": "execute_result"
    },
    {
     "data": {
      "image/png": "[encoded data removed]",
      "text/plain": [
       "<matplotlib.figure.Figure at 0x7fc626f348d0>"
      ]
     },
     "metadata": {},
     "output_type": "display_data"
    }
   ],
   "source": [
    "df.cos_hr.plot()\n",
    "plt.hlines(-0.96,0,14, color='r')\n",
    "plt.ylabel('cosine')\n",
    "plt.xlabel('hour of the day')\n",
    "plt.title('cosine transformation')"
   ]
  },
  {
   "cell_type": "markdown",
   "metadata": {},
   "source": [
    "Notice that for the 11:00 hour we also have two different values on the cosine wave.\n",
    "\n",
    "But when we use both, sine and cosine as a coordinate, we end up having original values of hours near the ones that should be close, i.e. 11:00 to 12:00."
   ]
  },
  {
   "cell_type": "code",
   "execution_count": 29,
   "metadata": {
    "ExecuteTime": {
     "end_time": "2019-06-30T22:09:55.562464Z",
     "start_time": "2019-06-30T22:09:54.959341Z"
    }
   },
   "outputs": [
    {
     "data": {
      "text/plain": [
       "Text(0.5,1,'sine-cosine transformation')"
      ]
     },
     "execution_count": 29,
     "metadata": {},
     "output_type": "execute_result"
    },
    {
     "data": {
      "image/png": "[encoded data removed]",
      "text/plain": [
       "<matplotlib.figure.Figure at 0x7fc62705d278>"
      ]
     },
     "metadata": {},
     "output_type": "display_data"
    }
   ],
   "source": [
    "df.plot.scatter('sin_hr', 'cos_hr').set_aspect('equal')\n",
    "plt.hlines(-0.96, -1, 1, color='r') # hour 11\n",
    "plt.vlines(0.25, -1, 1, color='r') # hour 11 \n",
    "plt.hlines(-1, -1, 1, color='g') # hour 12\n",
    "plt.vlines(0, -1, 1, color='g') # hour 12\n",
    "plt.title(\"sine-cosine transformation\")"
   ]
  },
  {
   "cell_type": "markdown",
   "metadata": {},
   "source": [
    "The same transformation can be used for all the cyclical features mentioned before. In this way you will preserve important information about these features in your algorithms."
   ]
  },
  {
   "cell_type": "code",
   "execution_count": null,
   "metadata": {},
   "outputs": [],
   "source": []
  }
 ],
 "metadata": {
  "kernelspec": {
   "display_name": "Python 3",
   "language": "python",
   "name": "python3"
  },
  "language_info": {
   "codemirror_mode": {
    "name": "ipython",
    "version": 3
   },
   "file_extension": ".py",
   "mimetype": "text/x-python",
   "name": "python",
   "nbconvert_exporter": "python",
   "pygments_lexer": "ipython3",
   "version": "3.5.2"
  }
 },
 "nbformat": 4,
 "nbformat_minor": 2
}
