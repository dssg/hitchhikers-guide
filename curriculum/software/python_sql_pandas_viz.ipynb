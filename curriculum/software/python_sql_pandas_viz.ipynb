{
 "cells": [
  {
   "cell_type": "markdown",
   "id": "de126ea5",
   "metadata": {},
   "source": [
    "# Python Session \n",
    "\n",
    "## Python & SQL\n"
   ]
  },
  {
   "cell_type": "code",
   "execution_count": 55,
   "id": "6191c295",
   "metadata": {},
   "outputs": [],
   "source": [
    "import numpy as np\n",
    "import pandas as pd\n",
    "import seaborn as sns\n",
    "import os\n",
    "import matplotlib.pyplot as plt\n",
    "\n",
    "from sqlalchemy import create_engine"
   ]
  },
  {
   "cell_type": "markdown",
   "id": "645b3a94",
   "metadata": {},
   "source": [
    "Getting a connection to the database through `SQLAlchemy`. \n",
    "\n",
    "As you can see we haven't reveal your credentials, we are sending them as envrionment variables to protect their values. "
   ]
  },
  {
   "cell_type": "code",
   "execution_count": 56,
   "id": "cf9d983e",
   "metadata": {},
   "outputs": [],
   "source": [
    "def get_db_conn():\n",
    "    \"\"\" Get an authenticated psycopg db connection\"\"\"\n",
    "    \n",
    "    user=os.getenv('PGUSER'),  # returns tuple\n",
    "    password=os.getenv('PGPASSWORD'), #returns tuple\n",
    "    host=os.getenv('PGHOST'), #returns tuple\n",
    "    port=int(os.getenv('PGPORT')), #returns tuple\n",
    "    database=os.getenv('PGDATABASE')\n",
    "    \n",
    "    engine = create_engine('postgresql://{}:{}@{}:{}/{}'.format(user[0], \n",
    "                                                                password[0], \n",
    "                                                                host[0], \n",
    "                                                                port[0], \n",
    "                                                                database))\n",
    "    connection = engine.connect()\n",
    "    \n",
    "    return connection"
   ]
  },
  {
   "cell_type": "markdown",
   "id": "c99f4806",
   "metadata": {},
   "source": [
    "Getting a connection to the database"
   ]
  },
  {
   "cell_type": "code",
   "execution_count": 57,
   "id": "00ec4e68",
   "metadata": {},
   "outputs": [],
   "source": [
    "db_conn = get_db_conn()"
   ]
  },
  {
   "cell_type": "markdown",
   "id": "ac5e262d",
   "metadata": {},
   "source": [
    "Just looking what's in the table of `food_facilities`"
   ]
  },
  {
   "cell_type": "code",
   "execution_count": 58,
   "id": "da336a47",
   "metadata": {},
   "outputs": [],
   "source": [
    "q = \"\"\"\n",
    "    select \n",
    "        * \n",
    "    from \n",
    "       clean.food_facilities \n",
    "    limit 10\n",
    "\"\"\""
   ]
  },
  {
   "cell_type": "code",
   "execution_count": 59,
   "id": "dacda340",
   "metadata": {},
   "outputs": [],
   "source": [
    "food_facilities_glimpse = pd.read_sql(q, db_conn)"
   ]
  },
  {
   "cell_type": "code",
   "execution_count": 60,
   "id": "d45297e5",
   "metadata": {},
   "outputs": [
    {
     "data": {
      "text/html": [
       "<div>\n",
       "<style scoped>\n",
       "    .dataframe tbody tr th:only-of-type {\n",
       "        vertical-align: middle;\n",
       "    }\n",
       "\n",
       "    .dataframe tbody tr th {\n",
       "        vertical-align: top;\n",
       "    }\n",
       "\n",
       "    .dataframe thead th {\n",
       "        text-align: right;\n",
       "    }\n",
       "</style>\n",
       "<table border=\"1\" class=\"dataframe\">\n",
       "  <thead>\n",
       "    <tr style=\"text-align: right;\">\n",
       "      <th></th>\n",
       "      <th>id</th>\n",
       "      <th>facility_name</th>\n",
       "      <th>num</th>\n",
       "      <th>street</th>\n",
       "      <th>city</th>\n",
       "      <th>state</th>\n",
       "      <th>zip</th>\n",
       "      <th>municipal</th>\n",
       "      <th>category_cd</th>\n",
       "      <th>description</th>\n",
       "      <th>...</th>\n",
       "      <th>fdo</th>\n",
       "      <th>bus_st_date</th>\n",
       "      <th>bus_cl_date</th>\n",
       "      <th>seat_count</th>\n",
       "      <th>noroom</th>\n",
       "      <th>sq_feet</th>\n",
       "      <th>status</th>\n",
       "      <th>placard_st</th>\n",
       "      <th>location</th>\n",
       "      <th>address</th>\n",
       "    </tr>\n",
       "  </thead>\n",
       "  <tbody>\n",
       "    <tr>\n",
       "      <th>0</th>\n",
       "      <td>10762</td>\n",
       "      <td>North Versailles VFD / South Wilmerding Social...</td>\n",
       "      <td>830</td>\n",
       "      <td>Sylvan Ave</td>\n",
       "      <td>North Versailles</td>\n",
       "      <td>PA</td>\n",
       "      <td>15137</td>\n",
       "      <td>North Versailles</td>\n",
       "      <td>250</td>\n",
       "      <td>Social Club-Bar Only</td>\n",
       "      <td>...</td>\n",
       "      <td>1969-01-01</td>\n",
       "      <td>1969-01-01</td>\n",
       "      <td>None</td>\n",
       "      <td>60</td>\n",
       "      <td>None</td>\n",
       "      <td>None</td>\n",
       "      <td>1</td>\n",
       "      <td>1.0</td>\n",
       "      <td>(40.3893522876375,-79.7954084350569)</td>\n",
       "      <td>830 Sylvan Ave PA 15137</td>\n",
       "    </tr>\n",
       "    <tr>\n",
       "      <th>1</th>\n",
       "      <td>10781</td>\n",
       "      <td>Hill Top Lodge #151</td>\n",
       "      <td>128-30</td>\n",
       "      <td>Ormsby Ave</td>\n",
       "      <td>Pittsburgh</td>\n",
       "      <td>PA</td>\n",
       "      <td>15210</td>\n",
       "      <td>Mt Oliver</td>\n",
       "      <td>250</td>\n",
       "      <td>Social Club-Bar Only</td>\n",
       "      <td>...</td>\n",
       "      <td>1984-06-17</td>\n",
       "      <td>1984-06-17</td>\n",
       "      <td>None</td>\n",
       "      <td>35</td>\n",
       "      <td>None</td>\n",
       "      <td>None</td>\n",
       "      <td>7</td>\n",
       "      <td>NaN</td>\n",
       "      <td>(40.4281106915889,-79.8638282475193)</td>\n",
       "      <td>128-30 Ormsby Ave PA 15210</td>\n",
       "    </tr>\n",
       "    <tr>\n",
       "      <th>2</th>\n",
       "      <td>10693</td>\n",
       "      <td>The Suburban Room</td>\n",
       "      <td>3113</td>\n",
       "      <td>W Liberty Ave</td>\n",
       "      <td>Pittsburgh</td>\n",
       "      <td>PA</td>\n",
       "      <td>15216</td>\n",
       "      <td>Dormont</td>\n",
       "      <td>201</td>\n",
       "      <td>Restaurant with Liquor</td>\n",
       "      <td>...</td>\n",
       "      <td>1984-06-17</td>\n",
       "      <td>1984-06-17</td>\n",
       "      <td>None</td>\n",
       "      <td>41</td>\n",
       "      <td>None</td>\n",
       "      <td>None</td>\n",
       "      <td>7</td>\n",
       "      <td>1.0</td>\n",
       "      <td>(40.3909702749449,-80.0393476003993)</td>\n",
       "      <td>3113 W Liberty Ave PA 15216</td>\n",
       "    </tr>\n",
       "    <tr>\n",
       "      <th>3</th>\n",
       "      <td>10707</td>\n",
       "      <td>Hyd A Way Bar</td>\n",
       "      <td>None</td>\n",
       "      <td>Box 39</td>\n",
       "      <td>Morgan</td>\n",
       "      <td>PA</td>\n",
       "      <td>15064</td>\n",
       "      <td>South Fayette</td>\n",
       "      <td>201</td>\n",
       "      <td>Restaurant with Liquor</td>\n",
       "      <td>...</td>\n",
       "      <td>1987-03-01</td>\n",
       "      <td>1987-03-01</td>\n",
       "      <td>None</td>\n",
       "      <td>30</td>\n",
       "      <td>None</td>\n",
       "      <td>None</td>\n",
       "      <td>7</td>\n",
       "      <td>NaN</td>\n",
       "      <td>None</td>\n",
       "      <td>Box 39 PA 15064</td>\n",
       "    </tr>\n",
       "    <tr>\n",
       "      <th>4</th>\n",
       "      <td>10711</td>\n",
       "      <td>Bratstvo Lodge #6 SNPJ</td>\n",
       "      <td>540</td>\n",
       "      <td>3rd  Avenue</td>\n",
       "      <td>Bridgeville</td>\n",
       "      <td>PA</td>\n",
       "      <td>15017</td>\n",
       "      <td>Bridgeville</td>\n",
       "      <td>201</td>\n",
       "      <td>Restaurant with Liquor</td>\n",
       "      <td>...</td>\n",
       "      <td>1984-06-17</td>\n",
       "      <td>1984-06-17</td>\n",
       "      <td>None</td>\n",
       "      <td>75</td>\n",
       "      <td>None</td>\n",
       "      <td>None</td>\n",
       "      <td>1</td>\n",
       "      <td>1.0</td>\n",
       "      <td>(40.3559346009913,-80.1351853772867)</td>\n",
       "      <td>540 3rd  Avenue PA 15017</td>\n",
       "    </tr>\n",
       "    <tr>\n",
       "      <th>5</th>\n",
       "      <td>10730</td>\n",
       "      <td>Aleppo Firemens Club</td>\n",
       "      <td>None</td>\n",
       "      <td>Weber Rd</td>\n",
       "      <td>Sewickley</td>\n",
       "      <td>PA</td>\n",
       "      <td>15143</td>\n",
       "      <td>Aleppo</td>\n",
       "      <td>250</td>\n",
       "      <td>Social Club-Bar Only</td>\n",
       "      <td>...</td>\n",
       "      <td>1984-06-17</td>\n",
       "      <td>1984-06-17</td>\n",
       "      <td>None</td>\n",
       "      <td>75</td>\n",
       "      <td>None</td>\n",
       "      <td>None</td>\n",
       "      <td>7</td>\n",
       "      <td>NaN</td>\n",
       "      <td>None</td>\n",
       "      <td>Weber Rd PA 15143</td>\n",
       "    </tr>\n",
       "    <tr>\n",
       "      <th>6</th>\n",
       "      <td>10734</td>\n",
       "      <td>Holiday Park Volunteer Fire Dept</td>\n",
       "      <td>415</td>\n",
       "      <td>Abers Creek Road</td>\n",
       "      <td>Pittsburgh</td>\n",
       "      <td>PA</td>\n",
       "      <td>15239</td>\n",
       "      <td>Plum</td>\n",
       "      <td>408</td>\n",
       "      <td>Firehall with Liquor</td>\n",
       "      <td>...</td>\n",
       "      <td>1957-01-01</td>\n",
       "      <td>1957-01-01</td>\n",
       "      <td>None</td>\n",
       "      <td>125</td>\n",
       "      <td>None</td>\n",
       "      <td>None</td>\n",
       "      <td>1</td>\n",
       "      <td>1.0</td>\n",
       "      <td>(40.4673015831831,-79.7058879594831)</td>\n",
       "      <td>415 Abers Creek Road PA 15239</td>\n",
       "    </tr>\n",
       "    <tr>\n",
       "      <th>7</th>\n",
       "      <td>10655</td>\n",
       "      <td>Ames</td>\n",
       "      <td>5775</td>\n",
       "      <td>Baptist Rd</td>\n",
       "      <td>Bethel Park</td>\n",
       "      <td>PA</td>\n",
       "      <td>15102</td>\n",
       "      <td>Bethel Park</td>\n",
       "      <td>212</td>\n",
       "      <td>Chain Restaurant without Liquor</td>\n",
       "      <td>...</td>\n",
       "      <td>1999-04-15</td>\n",
       "      <td>1999-04-15</td>\n",
       "      <td>None</td>\n",
       "      <td>13</td>\n",
       "      <td>None</td>\n",
       "      <td>None</td>\n",
       "      <td>7</td>\n",
       "      <td>NaN</td>\n",
       "      <td>(40.3488894875768,-80.0147316818965)</td>\n",
       "      <td>5775 Baptist Rd PA 15102</td>\n",
       "    </tr>\n",
       "    <tr>\n",
       "      <th>8</th>\n",
       "      <td>10664</td>\n",
       "      <td>B P O E / Elks Club #2213</td>\n",
       "      <td>2425</td>\n",
       "      <td>South Park Road</td>\n",
       "      <td>Bethel Park</td>\n",
       "      <td>PA</td>\n",
       "      <td>15102</td>\n",
       "      <td>Bethel Park</td>\n",
       "      <td>201</td>\n",
       "      <td>Restaurant with Liquor</td>\n",
       "      <td>...</td>\n",
       "      <td>1989-01-01</td>\n",
       "      <td>1989-01-01</td>\n",
       "      <td>2017-09-28</td>\n",
       "      <td>70</td>\n",
       "      <td>None</td>\n",
       "      <td>None</td>\n",
       "      <td>7</td>\n",
       "      <td>1.0</td>\n",
       "      <td>(40.3296547019916,-80.0234242292086)</td>\n",
       "      <td>2425 South Park Road PA 15102</td>\n",
       "    </tr>\n",
       "    <tr>\n",
       "      <th>9</th>\n",
       "      <td>10668</td>\n",
       "      <td>Bridgeville Dari Delite</td>\n",
       "      <td>413</td>\n",
       "      <td>Bower Hill Rd</td>\n",
       "      <td>Bridgeville</td>\n",
       "      <td>PA</td>\n",
       "      <td>15017</td>\n",
       "      <td>Bridgeville</td>\n",
       "      <td>211</td>\n",
       "      <td>Restaurant without Liquor</td>\n",
       "      <td>...</td>\n",
       "      <td>1984-06-17</td>\n",
       "      <td>1984-06-17</td>\n",
       "      <td>None</td>\n",
       "      <td>0</td>\n",
       "      <td>None</td>\n",
       "      <td>None</td>\n",
       "      <td>7</td>\n",
       "      <td>NaN</td>\n",
       "      <td>(40.3594389487414,-80.109897092669)</td>\n",
       "      <td>413 Bower Hill Rd PA 15017</td>\n",
       "    </tr>\n",
       "  </tbody>\n",
       "</table>\n",
       "<p>10 rows × 21 columns</p>\n",
       "</div>"
      ],
      "text/plain": [
       "      id                                      facility_name     num  \\\n",
       "0  10762  North Versailles VFD / South Wilmerding Social...     830   \n",
       "1  10781                                Hill Top Lodge #151  128-30   \n",
       "2  10693                                  The Suburban Room    3113   \n",
       "3  10707                                      Hyd A Way Bar    None   \n",
       "4  10711                             Bratstvo Lodge #6 SNPJ     540   \n",
       "5  10730                               Aleppo Firemens Club    None   \n",
       "6  10734                   Holiday Park Volunteer Fire Dept     415   \n",
       "7  10655                                               Ames    5775   \n",
       "8  10664                         B P O E / Elks Club #2213     2425   \n",
       "9  10668                            Bridgeville Dari Delite     413   \n",
       "\n",
       "             street              city state    zip         municipal  \\\n",
       "0        Sylvan Ave  North Versailles    PA  15137  North Versailles   \n",
       "1        Ormsby Ave        Pittsburgh    PA  15210         Mt Oliver   \n",
       "2     W Liberty Ave        Pittsburgh    PA  15216           Dormont   \n",
       "3            Box 39            Morgan    PA  15064     South Fayette   \n",
       "4       3rd  Avenue       Bridgeville    PA  15017       Bridgeville   \n",
       "5          Weber Rd         Sewickley    PA  15143            Aleppo   \n",
       "6  Abers Creek Road        Pittsburgh    PA  15239              Plum   \n",
       "7        Baptist Rd       Bethel Park    PA  15102       Bethel Park   \n",
       "8   South Park Road       Bethel Park    PA  15102       Bethel Park   \n",
       "9     Bower Hill Rd       Bridgeville    PA  15017       Bridgeville   \n",
       "\n",
       "   category_cd                      description  ...         fdo bus_st_date  \\\n",
       "0          250             Social Club-Bar Only  ...  1969-01-01  1969-01-01   \n",
       "1          250             Social Club-Bar Only  ...  1984-06-17  1984-06-17   \n",
       "2          201           Restaurant with Liquor  ...  1984-06-17  1984-06-17   \n",
       "3          201           Restaurant with Liquor  ...  1987-03-01  1987-03-01   \n",
       "4          201           Restaurant with Liquor  ...  1984-06-17  1984-06-17   \n",
       "5          250             Social Club-Bar Only  ...  1984-06-17  1984-06-17   \n",
       "6          408             Firehall with Liquor  ...  1957-01-01  1957-01-01   \n",
       "7          212  Chain Restaurant without Liquor  ...  1999-04-15  1999-04-15   \n",
       "8          201           Restaurant with Liquor  ...  1989-01-01  1989-01-01   \n",
       "9          211        Restaurant without Liquor  ...  1984-06-17  1984-06-17   \n",
       "\n",
       "  bus_cl_date seat_count  noroom sq_feet status  placard_st  \\\n",
       "0        None         60    None    None      1         1.0   \n",
       "1        None         35    None    None      7         NaN   \n",
       "2        None         41    None    None      7         1.0   \n",
       "3        None         30    None    None      7         NaN   \n",
       "4        None         75    None    None      1         1.0   \n",
       "5        None         75    None    None      7         NaN   \n",
       "6        None        125    None    None      1         1.0   \n",
       "7        None         13    None    None      7         NaN   \n",
       "8  2017-09-28         70    None    None      7         1.0   \n",
       "9        None          0    None    None      7         NaN   \n",
       "\n",
       "                               location                        address  \n",
       "0  (40.3893522876375,-79.7954084350569)        830 Sylvan Ave PA 15137  \n",
       "1  (40.4281106915889,-79.8638282475193)     128-30 Ormsby Ave PA 15210  \n",
       "2  (40.3909702749449,-80.0393476003993)    3113 W Liberty Ave PA 15216  \n",
       "3                                  None                Box 39 PA 15064  \n",
       "4  (40.3559346009913,-80.1351853772867)       540 3rd  Avenue PA 15017  \n",
       "5                                  None              Weber Rd PA 15143  \n",
       "6  (40.4673015831831,-79.7058879594831)  415 Abers Creek Road PA 15239  \n",
       "7  (40.3488894875768,-80.0147316818965)       5775 Baptist Rd PA 15102  \n",
       "8  (40.3296547019916,-80.0234242292086)  2425 South Park Road PA 15102  \n",
       "9   (40.3594389487414,-80.109897092669)     413 Bower Hill Rd PA 15017  \n",
       "\n",
       "[10 rows x 21 columns]"
      ]
     },
     "execution_count": 60,
     "metadata": {},
     "output_type": "execute_result"
    }
   ],
   "source": [
    "food_facilities_glimpse"
   ]
  },
  {
   "cell_type": "markdown",
   "id": "369f1488",
   "metadata": {},
   "source": [
    "Which are the 10 food facilities with most violations in 2021? "
   ]
  },
  {
   "cell_type": "code",
   "execution_count": 61,
   "id": "4809c967",
   "metadata": {},
   "outputs": [],
   "source": [
    "q = \"\"\"\n",
    "  select \n",
    "    facility_name, \n",
    "    count(*) as num_violations\n",
    "  from \n",
    "    clean.violations\n",
    "  where \n",
    "    date_part('year', inspect_dt) = 2020\n",
    "  group by facility_name \n",
    "  order by count(*) desc\n",
    "\"\"\""
   ]
  },
  {
   "cell_type": "code",
   "execution_count": 62,
   "id": "290ecdcf",
   "metadata": {},
   "outputs": [],
   "source": [
    "violations = pd.read_sql(q, db_conn)"
   ]
  },
  {
   "cell_type": "code",
   "execution_count": 63,
   "id": "f940d6f9",
   "metadata": {},
   "outputs": [
    {
     "data": {
      "text/plain": [
       "(3560, 2)"
      ]
     },
     "execution_count": 63,
     "metadata": {},
     "output_type": "execute_result"
    }
   ],
   "source": [
    "violations.shape"
   ]
  },
  {
   "cell_type": "code",
   "execution_count": 64,
   "id": "2ee48cbc",
   "metadata": {},
   "outputs": [
    {
     "data": {
      "text/html": [
       "<div>\n",
       "<style scoped>\n",
       "    .dataframe tbody tr th:only-of-type {\n",
       "        vertical-align: middle;\n",
       "    }\n",
       "\n",
       "    .dataframe tbody tr th {\n",
       "        vertical-align: top;\n",
       "    }\n",
       "\n",
       "    .dataframe thead th {\n",
       "        text-align: right;\n",
       "    }\n",
       "</style>\n",
       "<table border=\"1\" class=\"dataframe\">\n",
       "  <thead>\n",
       "    <tr style=\"text-align: right;\">\n",
       "      <th></th>\n",
       "      <th>facility_name</th>\n",
       "      <th>num_violations</th>\n",
       "    </tr>\n",
       "  </thead>\n",
       "  <tbody>\n",
       "    <tr>\n",
       "      <th>0</th>\n",
       "      <td>Subway Sandwiches &amp; Salads</td>\n",
       "      <td>86</td>\n",
       "    </tr>\n",
       "    <tr>\n",
       "      <th>1</th>\n",
       "      <td>McDonald's</td>\n",
       "      <td>72</td>\n",
       "    </tr>\n",
       "    <tr>\n",
       "      <th>2</th>\n",
       "      <td>All India</td>\n",
       "      <td>62</td>\n",
       "    </tr>\n",
       "    <tr>\n",
       "      <th>3</th>\n",
       "      <td>Caliente Pizza &amp; Draft House</td>\n",
       "      <td>58</td>\n",
       "    </tr>\n",
       "    <tr>\n",
       "      <th>4</th>\n",
       "      <td>Al's Fish &amp; Chicken</td>\n",
       "      <td>55</td>\n",
       "    </tr>\n",
       "    <tr>\n",
       "      <th>5</th>\n",
       "      <td>Italian Village Pizza</td>\n",
       "      <td>53</td>\n",
       "    </tr>\n",
       "    <tr>\n",
       "      <th>6</th>\n",
       "      <td>El Campesino Restaurante Mexicano</td>\n",
       "      <td>51</td>\n",
       "    </tr>\n",
       "    <tr>\n",
       "      <th>7</th>\n",
       "      <td>Dive Bar &amp; Grille</td>\n",
       "      <td>50</td>\n",
       "    </tr>\n",
       "    <tr>\n",
       "      <th>8</th>\n",
       "      <td>Hook, Fish &amp; Chicken</td>\n",
       "      <td>48</td>\n",
       "    </tr>\n",
       "    <tr>\n",
       "      <th>9</th>\n",
       "      <td>Fellini's Pizzeria</td>\n",
       "      <td>46</td>\n",
       "    </tr>\n",
       "  </tbody>\n",
       "</table>\n",
       "</div>"
      ],
      "text/plain": [
       "                       facility_name  num_violations\n",
       "0         Subway Sandwiches & Salads              86\n",
       "1                         McDonald's              72\n",
       "2                          All India              62\n",
       "3       Caliente Pizza & Draft House              58\n",
       "4                Al's Fish & Chicken              55\n",
       "5              Italian Village Pizza              53\n",
       "6  El Campesino Restaurante Mexicano              51\n",
       "7                  Dive Bar & Grille              50\n",
       "8               Hook, Fish & Chicken              48\n",
       "9                 Fellini's Pizzeria              46"
      ]
     },
     "execution_count": 64,
     "metadata": {},
     "output_type": "execute_result"
    }
   ],
   "source": [
    "violations.head(10)"
   ]
  },
  {
   "cell_type": "code",
   "execution_count": 68,
   "id": "c3e3a4ee",
   "metadata": {},
   "outputs": [],
   "source": [
    "violations_top_10 = violations.head(10)"
   ]
  },
  {
   "cell_type": "code",
   "execution_count": 69,
   "id": "89e8f152",
   "metadata": {},
   "outputs": [
    {
     "data": {
      "image/png": "[encoded data removed]",
      "text/plain": [
       "<Figure size 432x288 with 1 Axes>"
      ]
     },
     "metadata": {
      "needs_background": "light"
     },
     "output_type": "display_data"
    }
   ],
   "source": [
    "g = sns.barplot(data=violations_top_10, x='facility_name', y='num_violations', color=\"grey\")\n",
    "g.set_title(\"Top 10 food facilities with most violations in 2021\")\n",
    "g.set_ylabel(\"Num. of violations\")\n",
    "g.set_xlabel(\"Facility name\")\n",
    "# rotating labels on x axis\n",
    "g.set_xticklabels(g.get_xticklabels(), rotation=90)\n",
    "\n",
    "plt.show()"
   ]
  },
  {
   "cell_type": "code",
   "execution_count": 70,
   "id": "08eb11a7",
   "metadata": {},
   "outputs": [
    {
     "data": {
      "image/png": "[encoded data removed]",
      "text/plain": [
       "<Figure size 432x288 with 1 Axes>"
      ]
     },
     "metadata": {
      "needs_background": "light"
     },
     "output_type": "display_data"
    }
   ],
   "source": [
    "g = sns.barplot(data=violations_top_10, x='facility_name', y='num_violations', color=\"grey\")\n",
    "g.set_title(\"Top 10 food facilities with most violations in 2021\")\n",
    "g.set_ylabel(\"Num. of violations\")\n",
    "g.set_xlabel(\"Facility name\")\n",
    "# rotating labels on x axis\n",
    "g.set_xticklabels(g.get_xticklabels(), rotation=90)\n",
    "# adding labels to each bar\n",
    "g.bar_label(g.containers[0])\n",
    "# changing the limit of y axis \n",
    "g.set_ylim(0, 100)\n",
    "\n",
    "plt.show()"
   ]
  },
  {
   "cell_type": "markdown",
   "id": "06099480",
   "metadata": {},
   "source": [
    "Let's analyze the number of violations on 2021 "
   ]
  },
  {
   "cell_type": "code",
   "execution_count": 72,
   "id": "85722480",
   "metadata": {},
   "outputs": [
    {
     "data": {
      "text/html": [
       "<div>\n",
       "<style scoped>\n",
       "    .dataframe tbody tr th:only-of-type {\n",
       "        vertical-align: middle;\n",
       "    }\n",
       "\n",
       "    .dataframe tbody tr th {\n",
       "        vertical-align: top;\n",
       "    }\n",
       "\n",
       "    .dataframe thead th {\n",
       "        text-align: right;\n",
       "    }\n",
       "</style>\n",
       "<table border=\"1\" class=\"dataframe\">\n",
       "  <thead>\n",
       "    <tr style=\"text-align: right;\">\n",
       "      <th></th>\n",
       "      <th>num_violations</th>\n",
       "    </tr>\n",
       "  </thead>\n",
       "  <tbody>\n",
       "    <tr>\n",
       "      <th>count</th>\n",
       "      <td>3560.000000</td>\n",
       "    </tr>\n",
       "    <tr>\n",
       "      <th>mean</th>\n",
       "      <td>6.037640</td>\n",
       "    </tr>\n",
       "    <tr>\n",
       "      <th>std</th>\n",
       "      <td>6.267229</td>\n",
       "    </tr>\n",
       "    <tr>\n",
       "      <th>min</th>\n",
       "      <td>1.000000</td>\n",
       "    </tr>\n",
       "    <tr>\n",
       "      <th>25%</th>\n",
       "      <td>2.000000</td>\n",
       "    </tr>\n",
       "    <tr>\n",
       "      <th>50%</th>\n",
       "      <td>4.000000</td>\n",
       "    </tr>\n",
       "    <tr>\n",
       "      <th>75%</th>\n",
       "      <td>8.000000</td>\n",
       "    </tr>\n",
       "    <tr>\n",
       "      <th>max</th>\n",
       "      <td>86.000000</td>\n",
       "    </tr>\n",
       "  </tbody>\n",
       "</table>\n",
       "</div>"
      ],
      "text/plain": [
       "       num_violations\n",
       "count     3560.000000\n",
       "mean         6.037640\n",
       "std          6.267229\n",
       "min          1.000000\n",
       "25%          2.000000\n",
       "50%          4.000000\n",
       "75%          8.000000\n",
       "max         86.000000"
      ]
     },
     "execution_count": 72,
     "metadata": {},
     "output_type": "execute_result"
    }
   ],
   "source": [
    "violations.describe()"
   ]
  },
  {
   "cell_type": "code",
   "execution_count": 79,
   "id": "830973f1",
   "metadata": {},
   "outputs": [
    {
     "data": {
      "image/png": "[encoded data removed]",
      "text/plain": [
       "<Figure size 432x288 with 1 Axes>"
      ]
     },
     "metadata": {
      "needs_background": "light"
     },
     "output_type": "display_data"
    }
   ],
   "source": [
    "g = sns.boxplot(data=violations, x=\"num_violations\", color=\"grey\")\n",
    "g.set_title(\"Distribution of num. of violations in 2021\")\n",
    "g.set_xlabel(\"Num. of violations\")\n",
    "\n",
    "plt.show()"
   ]
  },
  {
   "cell_type": "code",
   "execution_count": 80,
   "id": "a396207c",
   "metadata": {},
   "outputs": [
    {
     "data": {
      "image/png": "[encoded data removed]",
      "text/plain": [
       "<Figure size 432x288 with 1 Axes>"
      ]
     },
     "metadata": {
      "needs_background": "light"
     },
     "output_type": "display_data"
    }
   ],
   "source": [
    "# show mean\n",
    "g = sns.boxplot(data=violations, x=\"num_violations\", color=\"grey\", showmeans=True)\n",
    "g.set_title(\"Distribution of num. of violations in 2021\")\n",
    "g.set_xlabel(\"Num. of violations\")\n",
    "\n",
    "plt.show()"
   ]
  },
  {
   "cell_type": "code",
   "execution_count": 83,
   "id": "583a0252",
   "metadata": {},
   "outputs": [
    {
     "data": {
      "image/png": "[encoded data removed]",
      "text/plain": [
       "<Figure size 432x288 with 1 Axes>"
      ]
     },
     "metadata": {
      "needs_background": "light"
     },
     "output_type": "display_data"
    }
   ],
   "source": [
    "# without outliers\n",
    "g = sns.boxplot(data=violations, x=\"num_violations\", color=\"grey\", showmeans=True, showfliers=False)\n",
    "g.set_title(\"Distribution of num. of violations in 2021\")\n",
    "g.set_xlabel(\"Num. of violations\")\n",
    "\n",
    "plt.show()"
   ]
  }
 ],
 "metadata": {
  "kernelspec": {
   "display_name": "food_inspections",
   "language": "python",
   "name": "food_inspections"
  },
  "language_info": {
   "codemirror_mode": {
    "name": "ipython",
    "version": 3
   },
   "file_extension": ".py",
   "mimetype": "text/x-python",
   "name": "python",
   "nbconvert_exporter": "python",
   "pygments_lexer": "ipython3",
   "version": "3.10.4"
  }
 },
 "nbformat": 4,
 "nbformat_minor": 5
}
