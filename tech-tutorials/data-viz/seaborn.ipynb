# source:
# http://gis.stackexchange.com/questions/25877/how-to-generate-random-locations-nearby-my-location
from __future__ import division
import numpy as np


def random_coord(x0, y0, distance):
    r = distance/111300.0
    u = np.random.uniform(0, 1)
    v = np.random.uniform(0, 1)
    w = r * np.sqrt(u)
    t = 2 * np.pi * v
    x = w * np.cos(t)
    x1 = x / np.cos(y0)
    y = w * np.sin(t)
    return (x0+x1, y0 + y)
