{
 "cells": [
  {
   "cell_type": "markdown",
   "metadata": {},
   "source": [
    "# Background on Python, iPython, Jupyter and Pandas\n",
    "\n",
    "[Python](https://www.python.org/) is a high-level general purpose programming language named after a [British comedy troup](https://www.youtube.com/user/MontyPython), created by a [Dutch benevolent dictator](http://en.wikipedia.org/wiki/Guido_van_Rossum) and maintained by an international group of fiendly but opinionated python enthusiasts (`import this!`). \n",
    "\n",
    "It's popular for data science because it's powerful, fast, plays well with others, runs everywhere, is easy to learn, highly readable, and open. Because it's general purpose it can be used for full-stack development. It's got a growing list of useful libraries for scientitic programming, data manipulation, data analysis. (Numpy, Scipy, Pandas, Scikit-Learn, Statsmodels, Matplotlib, Pybrain, etc.)\n",
    "\n",
    "[iPython](http://ipython.org/) is an enhanced, interactive python interpreter started as a grad school project by [Fernando Perez](http://fperez.org/). iPython (jupyter) notebooks allow you to run a multi-language (Python, R, Julia, Markdown, LaTex, etc) interpreter in your browser to create rich, portable, and sharable code documents.\n",
    "\n",
    "[Pandas](http://pandas.pydata.org/) is a libary created by [Wes McKinney](http://blog.wesmckinney.com/) that introduces the R-like dataframe object to Python and makes working with data in Python a lot easier. It's also a lot more efficient than the R dataframe and pretty much makes Python superior to R in every imaginable way (except for ggplot 2). "
   ]
  },
  {
   "cell_type": "markdown",
   "metadata": {},
   "source": [
    "## Getting started with Jupyter (iPython) Notebooks\n",
    "\n",
    "To start up a Jupyter notebook server, simply navigate to the directory where you want the notebooks to be saved and run the command\n",
    "\n",
    "```\n",
    "jupyter notebook\n",
    "```\n",
    "\n",
    "A browser should open with a notebook navigator. Click the \"New\" button and select \"Python 2\".\n",
    "\n",
    "A beautiful blank notebook should open in a new tab\n",
    "\n",
    "Name the notebook by clicking on \"Untitled\" at the top of the page.\n",
    "\n",
    "Notebooks are squences of cells. Cells can be markdown, code, or raw text. Change the first cell to markdown and briefly describe what you are going to do in the notebook. "
   ]
  },
  {
   "cell_type": "markdown",
   "metadata": {},
   "source": [
    "## Calling the Command Line from Jupyter\n",
    "\n",
    "You can call the command line from jupyter! Just use a \"!\" before the command!"
   ]
  },
  {
   "cell_type": "code",
   "execution_count": 9,
   "metadata": {
    "collapsed": false
   },
   "outputs": [
    {
     "name": "stdout",
     "output_type": "stream",
     "text": [
      "  % Total    % Received % Xferd  Average Speed   Time    Time     Time  Current\n",
      "                                 Dload  Upload   Total   Spent    Left  Speed\n",
      "100 74.9M  100 74.9M    0     0  1014k      0  0:01:15  0:01:15 --:--:-- 1339k\n",
      "  % Total    % Received % Xferd  Average Speed   Time    Time     Time  Current\n",
      "                                 Dload  Upload   Total   Spent    Left  Speed\n",
      "100 8461k  100 8461k    0     0  1760k      0  0:00:04  0:00:04 --:--:-- 1760k\n"
     ]
    }
   ],
   "source": [
    "#Let's get data\n",
    "!curl -O http://isalix.hestia.feralhosting.com/2016.csv.gz    \n",
    "!gunzip 2016.csv.gz\n",
    "!mv 2016.csv ~/data\n",
    "!curl -O http://www1.ncdc.noaa.gov/pub/data/ghcn/daily/ghcnd-stations.txt\n",
    "!mv ghcnd-stations.txt ~/data"
   ]
  },
  {
   "cell_type": "markdown",
   "metadata": {},
   "source": [
    "## Getting started with Pandas\n",
    "\n",
    "We start by importing the libraries we're going to use: `pandas` and `matplotlib`"
   ]
  },
  {
   "cell_type": "code",
   "execution_count": 5,
   "metadata": {
    "collapsed": false
   },
   "outputs": [
    {
     "name": "stderr",
     "output_type": "stream",
     "text": [
      "/Users/matthewgee/anaconda/lib/python2.7/site-packages/matplotlib/__init__.py:872: UserWarning: axes.color_cycle is deprecated and replaced with axes.prop_cycle; please use the latter.\n",
      "  warnings.warn(self.msg_depr % (key, alt_key))\n"
     ]
    }
   ],
   "source": [
    "# Import Statements\n",
    "import pandas as pd\n",
    "import numpy as np\n",
    "%matplotlib inline"
   ]
  },
  {
   "cell_type": "code",
   "execution_count": 10,
   "metadata": {
    "collapsed": false
   },
   "outputs": [],
   "source": [
    "# File Locations\n",
    "# Change these on your machine!\n",
    "datadir = \"/Users/matthewgee/data/\"\n",
    "weather_data_raw = datadir + \"2016.csv\"\n",
    "station_data_raw = datadir + \"ghcnd-stations.txt\""
   ]
  },
  {
   "cell_type": "markdown",
   "metadata": {},
   "source": [
    "## Loading data into a Pandas DataFrame\n",
    "\n",
    "So far we've been working with raw text files. That's one way to store and interact with data, but there are only a limited set of functions that can take as input raw text. Python has an amazing array of of data structures to work with that give you a lot of extra power in working with data. \n",
    "\n",
    "Build in Data Structures\n",
    "- strings \"\"\n",
    "- lists []\n",
    "- tuples ()\n",
    "- sets {}\n",
    "- dictionaries {'key':value}\n",
    "\n",
    "Additional Essential Data Structures\n",
    "\n",
    "- numpy arrys ([])\n",
    "- pandas Series\n",
    "- pandas DataFrame\n",
    "- tensorflow Tensors\n",
    "\n",
    "\n",
    "Today we'll primarily be working with the pandas DataFrame. The pandas DataFrame is a two-dimensional size-mutable, potentially heterogeneous tabular data structure with labeled axes. It's basically a spreadsheet you can program and it's an incredibly useful Python object for data analysis. \n",
    "\n",
    "You can load data into a dataframe using Pandas' excellent `read_*` functions.\n",
    "\n",
    "We're going to try two of them: read_table & read_csv\n",
    "\n",
    "Pro tip: TAB COMPLETION!\n",
    "\n",
    "Pro tip: jupyter will pull of the doc string for a command just by asking it a question.\n",
    "\n",
    "Pro tip: jupyter will give you the allowable arguments if you it `shift + tab`"
   ]
  },
  {
   "cell_type": "code",
   "execution_count": 8,
   "metadata": {
    "collapsed": false
   },
   "outputs": [],
   "source": [
    "pd.read_table?"
   ]
  },
  {
   "cell_type": "code",
   "execution_count": 17,
   "metadata": {
    "collapsed": true
   },
   "outputs": [],
   "source": [
    "weather = pd.read_table(weather_data_raw, sep=\",\", header=None)\n",
    "#weather = pd.read_csv(weather_data_raw)\n",
    "stations = pd.read_table(station_data_raw, header=None)"
   ]
  },
  {
   "cell_type": "markdown",
   "metadata": {},
   "source": [
    "## Viewing data in pandas\n",
    "\n",
    "There are lots of options for viewing data in pandas. Just like we did in the command line, you can use `head` and `tail` to get a quick view of our data."
   ]
  },
  {
   "cell_type": "code",
   "execution_count": 18,
   "metadata": {
    "collapsed": false
   },
   "outputs": [
    {
     "data": {
      "text/html": [
       "<div>\n",
       "<table border=\"1\" class=\"dataframe\">\n",
       "  <thead>\n",
       "    <tr style=\"text-align: right;\">\n",
       "      <th></th>\n",
       "      <th>0</th>\n",
       "      <th>1</th>\n",
       "      <th>2</th>\n",
       "      <th>3</th>\n",
       "      <th>4</th>\n",
       "      <th>5</th>\n",
       "      <th>6</th>\n",
       "      <th>7</th>\n",
       "    </tr>\n",
       "  </thead>\n",
       "  <tbody>\n",
       "    <tr>\n",
       "      <th>0</th>\n",
       "      <td>US1FLSL0019</td>\n",
       "      <td>20160101</td>\n",
       "      <td>PRCP</td>\n",
       "      <td>3</td>\n",
       "      <td>NaN</td>\n",
       "      <td>NaN</td>\n",
       "      <td>N</td>\n",
       "      <td>NaN</td>\n",
       "    </tr>\n",
       "    <tr>\n",
       "      <th>1</th>\n",
       "      <td>USC00141761</td>\n",
       "      <td>20160101</td>\n",
       "      <td>TOBS</td>\n",
       "      <td>-89</td>\n",
       "      <td>NaN</td>\n",
       "      <td>NaN</td>\n",
       "      <td>7</td>\n",
       "      <td>700.0</td>\n",
       "    </tr>\n",
       "    <tr>\n",
       "      <th>2</th>\n",
       "      <td>USC00141761</td>\n",
       "      <td>20160101</td>\n",
       "      <td>PRCP</td>\n",
       "      <td>0</td>\n",
       "      <td>NaN</td>\n",
       "      <td>NaN</td>\n",
       "      <td>7</td>\n",
       "      <td>700.0</td>\n",
       "    </tr>\n",
       "    <tr>\n",
       "      <th>3</th>\n",
       "      <td>USC00141761</td>\n",
       "      <td>20160101</td>\n",
       "      <td>SNOW</td>\n",
       "      <td>0</td>\n",
       "      <td>NaN</td>\n",
       "      <td>NaN</td>\n",
       "      <td>7</td>\n",
       "      <td>NaN</td>\n",
       "    </tr>\n",
       "    <tr>\n",
       "      <th>4</th>\n",
       "      <td>USC00141761</td>\n",
       "      <td>20160101</td>\n",
       "      <td>SNWD</td>\n",
       "      <td>0</td>\n",
       "      <td>NaN</td>\n",
       "      <td>NaN</td>\n",
       "      <td>7</td>\n",
       "      <td>700.0</td>\n",
       "    </tr>\n",
       "  </tbody>\n",
       "</table>\n",
       "</div>"
      ],
      "text/plain": [
       "             0         1     2   3    4    5  6      7\n",
       "0  US1FLSL0019  20160101  PRCP   3  NaN  NaN  N    NaN\n",
       "1  USC00141761  20160101  TOBS -89  NaN  NaN  7  700.0\n",
       "2  USC00141761  20160101  PRCP   0  NaN  NaN  7  700.0\n",
       "3  USC00141761  20160101  SNOW   0  NaN  NaN  7    NaN\n",
       "4  USC00141761  20160101  SNWD   0  NaN  NaN  7  700.0"
      ]
     },
     "execution_count": 18,
     "metadata": {},
     "output_type": "execute_result"
    }
   ],
   "source": [
    "weather.head()"
   ]
  },
  {
   "cell_type": "code",
   "execution_count": 19,
   "metadata": {
    "collapsed": false
   },
   "outputs": [
    {
     "data": {
      "text/html": [
       "<div>\n",
       "<table border=\"1\" class=\"dataframe\">\n",
       "  <thead>\n",
       "    <tr style=\"text-align: right;\">\n",
       "      <th></th>\n",
       "      <th>0</th>\n",
       "      <th>1</th>\n",
       "      <th>2</th>\n",
       "      <th>3</th>\n",
       "      <th>4</th>\n",
       "      <th>5</th>\n",
       "      <th>6</th>\n",
       "      <th>7</th>\n",
       "    </tr>\n",
       "  </thead>\n",
       "  <tbody>\n",
       "    <tr>\n",
       "      <th>13255704</th>\n",
       "      <td>USR0000TSAB</td>\n",
       "      <td>20160601</td>\n",
       "      <td>TAVG</td>\n",
       "      <td>273</td>\n",
       "      <td>NaN</td>\n",
       "      <td>NaN</td>\n",
       "      <td>U</td>\n",
       "      <td>NaN</td>\n",
       "    </tr>\n",
       "    <tr>\n",
       "      <th>13255705</th>\n",
       "      <td>US1MIIS0004</td>\n",
       "      <td>20160601</td>\n",
       "      <td>PRCP</td>\n",
       "      <td>0</td>\n",
       "      <td>NaN</td>\n",
       "      <td>NaN</td>\n",
       "      <td>N</td>\n",
       "      <td>NaN</td>\n",
       "    </tr>\n",
       "    <tr>\n",
       "      <th>13255706</th>\n",
       "      <td>US1MIIS0004</td>\n",
       "      <td>20160601</td>\n",
       "      <td>SNOW</td>\n",
       "      <td>0</td>\n",
       "      <td>NaN</td>\n",
       "      <td>NaN</td>\n",
       "      <td>N</td>\n",
       "      <td>NaN</td>\n",
       "    </tr>\n",
       "    <tr>\n",
       "      <th>13255707</th>\n",
       "      <td>US1PALZ0025</td>\n",
       "      <td>20160601</td>\n",
       "      <td>PRCP</td>\n",
       "      <td>0</td>\n",
       "      <td>NaN</td>\n",
       "      <td>NaN</td>\n",
       "      <td>N</td>\n",
       "      <td>NaN</td>\n",
       "    </tr>\n",
       "    <tr>\n",
       "      <th>13255708</th>\n",
       "      <td>US1PALZ0025</td>\n",
       "      <td>20160601</td>\n",
       "      <td>SNOW</td>\n",
       "      <td>0</td>\n",
       "      <td>NaN</td>\n",
       "      <td>NaN</td>\n",
       "      <td>N</td>\n",
       "      <td>NaN</td>\n",
       "    </tr>\n",
       "  </tbody>\n",
       "</table>\n",
       "</div>"
      ],
      "text/plain": [
       "                    0         1     2    3    4    5  6   7\n",
       "13255704  USR0000TSAB  20160601  TAVG  273  NaN  NaN  U NaN\n",
       "13255705  US1MIIS0004  20160601  PRCP    0  NaN  NaN  N NaN\n",
       "13255706  US1MIIS0004  20160601  SNOW    0  NaN  NaN  N NaN\n",
       "13255707  US1PALZ0025  20160601  PRCP    0  NaN  NaN  N NaN\n",
       "13255708  US1PALZ0025  20160601  SNOW    0  NaN  NaN  N NaN"
      ]
     },
     "execution_count": 19,
     "metadata": {},
     "output_type": "execute_result"
    }
   ],
   "source": [
    "weather.tail()"
   ]
  },
  {
   "cell_type": "code",
   "execution_count": 21,
   "metadata": {
    "collapsed": false
   },
   "outputs": [
    {
     "data": {
      "text/plain": [
       "(13255709, 8)"
      ]
     },
     "execution_count": 21,
     "metadata": {},
     "output_type": "execute_result"
    }
   ],
   "source": [
    "weather.shape"
   ]
  },
  {
   "cell_type": "code",
   "execution_count": 22,
   "metadata": {
    "collapsed": false
   },
   "outputs": [
    {
     "data": {
      "text/plain": [
       "0     object\n",
       "1      int64\n",
       "2     object\n",
       "3      int64\n",
       "4     object\n",
       "5     object\n",
       "6     object\n",
       "7    float64\n",
       "dtype: object"
      ]
     },
     "execution_count": 22,
     "metadata": {},
     "output_type": "execute_result"
    }
   ],
   "source": [
    "weather.dtypes"
   ]
  },
  {
   "cell_type": "markdown",
   "metadata": {},
   "source": [
    "Pro tip: you'll notice that some commands have looked like pd.something(), some like data.something(), and some like data.something without (). The difference is a pandas function or class vs methods vs attributes. Methods are actions you take on a dataframe or series, while attributes are descriptors or the dataframe or series.\n"
   ]
  },
  {
   "cell_type": "markdown",
   "metadata": {},
   "source": [
    "## Modifying your dataframe\n",
    "\n",
    "Notice that we don't have column names and some columns are completely useless. Let's fix that by learning how to name and delete columns."
   ]
  },
  {
   "cell_type": "code",
   "execution_count": 23,
   "metadata": {
    "collapsed": false
   },
   "outputs": [
    {
     "data": {
      "text/plain": [
       "Int64Index([0, 1, 2, 3, 4, 5, 6, 7], dtype='int64')"
      ]
     },
     "execution_count": 23,
     "metadata": {},
     "output_type": "execute_result"
    }
   ],
   "source": [
    "weather.columns"
   ]
  },
  {
   "cell_type": "code",
   "execution_count": 25,
   "metadata": {
    "collapsed": false
   },
   "outputs": [],
   "source": [
    "#Get rid of 4,5,6, & 7\n",
    "weather.drop([4,5,6,7], axis=1, inplace=True)"
   ]
  },
  {
   "cell_type": "code",
   "execution_count": 27,
   "metadata": {
    "collapsed": false
   },
   "outputs": [
    {
     "data": {
      "text/html": [
       "<div>\n",
       "<table border=\"1\" class=\"dataframe\">\n",
       "  <thead>\n",
       "    <tr style=\"text-align: right;\">\n",
       "      <th></th>\n",
       "      <th>0</th>\n",
       "      <th>1</th>\n",
       "      <th>2</th>\n",
       "      <th>3</th>\n",
       "    </tr>\n",
       "  </thead>\n",
       "  <tbody>\n",
       "    <tr>\n",
       "      <th>0</th>\n",
       "      <td>US1FLSL0019</td>\n",
       "      <td>20160101</td>\n",
       "      <td>PRCP</td>\n",
       "      <td>3</td>\n",
       "    </tr>\n",
       "    <tr>\n",
       "      <th>1</th>\n",
       "      <td>USC00141761</td>\n",
       "      <td>20160101</td>\n",
       "      <td>TOBS</td>\n",
       "      <td>-89</td>\n",
       "    </tr>\n",
       "    <tr>\n",
       "      <th>2</th>\n",
       "      <td>USC00141761</td>\n",
       "      <td>20160101</td>\n",
       "      <td>PRCP</td>\n",
       "      <td>0</td>\n",
       "    </tr>\n",
       "    <tr>\n",
       "      <th>3</th>\n",
       "      <td>USC00141761</td>\n",
       "      <td>20160101</td>\n",
       "      <td>SNOW</td>\n",
       "      <td>0</td>\n",
       "    </tr>\n",
       "    <tr>\n",
       "      <th>4</th>\n",
       "      <td>USC00141761</td>\n",
       "      <td>20160101</td>\n",
       "      <td>SNWD</td>\n",
       "      <td>0</td>\n",
       "    </tr>\n",
       "  </tbody>\n",
       "</table>\n",
       "</div>"
      ],
      "text/plain": [
       "             0         1     2   3\n",
       "0  US1FLSL0019  20160101  PRCP   3\n",
       "1  USC00141761  20160101  TOBS -89\n",
       "2  USC00141761  20160101  PRCP   0\n",
       "3  USC00141761  20160101  SNOW   0\n",
       "4  USC00141761  20160101  SNWD   0"
      ]
     },
     "execution_count": 27,
     "metadata": {},
     "output_type": "execute_result"
    }
   ],
   "source": [
    "weather.head()"
   ]
  },
  {
   "cell_type": "code",
   "execution_count": 29,
   "metadata": {
    "collapsed": false
   },
   "outputs": [
    {
     "data": {
      "text/plain": [
       "Index([u'station_id', u'date', u'measurement', u'value'], dtype='object')"
      ]
     },
     "execution_count": 29,
     "metadata": {},
     "output_type": "execute_result"
    }
   ],
   "source": [
    "weather_cols = ['station_id','date','measurement','value']\n",
    "weather.columns = weather_cols\n",
    "weather.columns"
   ]
  },
  {
   "cell_type": "markdown",
   "metadata": {},
   "source": [
    "## Describing the entire dataframe\n",
    "\n",
    "Now that we have columns, we want to get a better global view of our data. There are several ways "
   ]
  },
  {
   "cell_type": "code",
   "execution_count": 32,
   "metadata": {
    "collapsed": false
   },
   "outputs": [
    {
     "data": {
      "text/html": [
       "<div>\n",
       "<table border=\"1\" class=\"dataframe\">\n",
       "  <thead>\n",
       "    <tr style=\"text-align: right;\">\n",
       "      <th></th>\n",
       "      <th>date</th>\n",
       "      <th>value</th>\n",
       "    </tr>\n",
       "  </thead>\n",
       "  <tbody>\n",
       "    <tr>\n",
       "      <th>count</th>\n",
       "      <td>1.325571e+07</td>\n",
       "      <td>1.325571e+07</td>\n",
       "    </tr>\n",
       "    <tr>\n",
       "      <th>mean</th>\n",
       "      <td>2.016030e+07</td>\n",
       "      <td>9.040353e+01</td>\n",
       "    </tr>\n",
       "    <tr>\n",
       "      <th>std</th>\n",
       "      <td>1.380050e+02</td>\n",
       "      <td>4.135585e+02</td>\n",
       "    </tr>\n",
       "    <tr>\n",
       "      <th>min</th>\n",
       "      <td>2.016010e+07</td>\n",
       "      <td>-9.990000e+02</td>\n",
       "    </tr>\n",
       "    <tr>\n",
       "      <th>25%</th>\n",
       "      <td>2.016020e+07</td>\n",
       "      <td>0.000000e+00</td>\n",
       "    </tr>\n",
       "    <tr>\n",
       "      <th>50%</th>\n",
       "      <td>2.016031e+07</td>\n",
       "      <td>1.000000e+00</td>\n",
       "    </tr>\n",
       "    <tr>\n",
       "      <th>75%</th>\n",
       "      <td>2.016042e+07</td>\n",
       "      <td>9.900000e+01</td>\n",
       "    </tr>\n",
       "    <tr>\n",
       "      <th>max</th>\n",
       "      <td>2.016060e+07</td>\n",
       "      <td>2.374900e+04</td>\n",
       "    </tr>\n",
       "  </tbody>\n",
       "</table>\n",
       "</div>"
      ],
      "text/plain": [
       "               date         value\n",
       "count  1.325571e+07  1.325571e+07\n",
       "mean   2.016030e+07  9.040353e+01\n",
       "std    1.380050e+02  4.135585e+02\n",
       "min    2.016010e+07 -9.990000e+02\n",
       "25%    2.016020e+07  0.000000e+00\n",
       "50%    2.016031e+07  1.000000e+00\n",
       "75%    2.016042e+07  9.900000e+01\n",
       "max    2.016060e+07  2.374900e+04"
      ]
     },
     "execution_count": 32,
     "metadata": {},
     "output_type": "execute_result"
    }
   ],
   "source": [
    "weather.describe()"
   ]
  },
  {
   "cell_type": "code",
   "execution_count": 37,
   "metadata": {
    "collapsed": false
   },
   "outputs": [
    {
     "data": {
      "text/html": [
       "<div>\n",
       "<table border=\"1\" class=\"dataframe\">\n",
       "  <thead>\n",
       "    <tr style=\"text-align: right;\">\n",
       "      <th></th>\n",
       "      <th>station_id</th>\n",
       "      <th>measurement</th>\n",
       "    </tr>\n",
       "  </thead>\n",
       "  <tbody>\n",
       "    <tr>\n",
       "      <th>count</th>\n",
       "      <td>13255709</td>\n",
       "      <td>13255709</td>\n",
       "    </tr>\n",
       "    <tr>\n",
       "      <th>unique</th>\n",
       "      <td>36621</td>\n",
       "      <td>66</td>\n",
       "    </tr>\n",
       "    <tr>\n",
       "      <th>top</th>\n",
       "      <td>USC00218450</td>\n",
       "      <td>PRCP</td>\n",
       "    </tr>\n",
       "    <tr>\n",
       "      <th>freq</th>\n",
       "      <td>2853</td>\n",
       "      <td>3687627</td>\n",
       "    </tr>\n",
       "  </tbody>\n",
       "</table>\n",
       "</div>"
      ],
      "text/plain": [
       "         station_id measurement\n",
       "count      13255709    13255709\n",
       "unique        36621          66\n",
       "top     USC00218450        PRCP\n",
       "freq           2853     3687627"
      ]
     },
     "execution_count": 37,
     "metadata": {},
     "output_type": "execute_result"
    }
   ],
   "source": [
    "weather.describe(include=['O'])"
   ]
  },
  {
   "cell_type": "markdown",
   "metadata": {},
   "source": [
    "## Selecting and subsetting in pandas\n",
    "\n",
    "One of the biggest benefits of having a multi-index object like a DataFrame is the ability to easily select rows, columns, and subsets of the data. Let's learn how to do that.\n",
    "\n",
    "First we will select individual series from the dataframe."
   ]
  },
  {
   "cell_type": "code",
   "execution_count": 31,
   "metadata": {
    "collapsed": false
   },
   "outputs": [
    {
     "data": {
      "text/plain": [
       "0    PRCP\n",
       "1    TOBS\n",
       "2    PRCP\n",
       "3    SNOW\n",
       "4    SNWD\n",
       "Name: measurement, dtype: object"
      ]
     },
     "execution_count": 31,
     "metadata": {},
     "output_type": "execute_result"
    }
   ],
   "source": [
    "weather['measurement'].head()"
   ]
  },
  {
   "cell_type": "code",
   "execution_count": 41,
   "metadata": {
    "collapsed": false
   },
   "outputs": [
    {
     "data": {
      "text/plain": [
       "PRCP    2.781916e-01\n",
       "TMAX    1.313235e-01\n",
       "TMIN    1.305995e-01\n",
       "SNOW    1.268957e-01\n",
       "SNWD    9.313806e-02\n",
       "TAVG    7.393501e-02\n",
       "TOBS    5.633143e-02\n",
       "WESD    1.434114e-02\n",
       "AWND    1.119382e-02\n",
       "WSF2    1.046198e-02\n",
       "WDF2    1.046191e-02\n",
       "WSF5    1.041695e-02\n",
       "WDF5    1.041415e-02\n",
       "WSFG    7.664245e-03\n",
       "WESF    7.606232e-03\n",
       "WDFG    7.586693e-03\n",
       "WT01    3.833216e-03\n",
       "PGTM    2.837117e-03\n",
       "SX32    1.421802e-03\n",
       "SN32    1.412373e-03\n",
       "WT08    1.042419e-03\n",
       "WT03    9.316740e-04\n",
       "EVAP    8.541980e-04\n",
       "WDMV    6.441753e-04\n",
       "DAPR    6.317278e-04\n",
       "MDPR    6.299927e-04\n",
       "SX52    5.993644e-04\n",
       "SN52    5.894819e-04\n",
       "WT02    4.964653e-04\n",
       "WSFI    3.923592e-04\n",
       "            ...     \n",
       "SN33    1.394116e-04\n",
       "SX33    1.394116e-04\n",
       "DWPR    1.344326e-04\n",
       "WT04    1.339046e-04\n",
       "WT11    1.155728e-04\n",
       "MDTN    7.159179e-05\n",
       "DATN    7.159179e-05\n",
       "WT05    6.834791e-05\n",
       "DATX    6.766896e-05\n",
       "MDTX    6.766896e-05\n",
       "SN53    6.125663e-05\n",
       "SX53    6.125663e-05\n",
       "SN51    5.469342e-05\n",
       "SX51    5.461798e-05\n",
       "SX35    4.488632e-05\n",
       "WT09    3.854943e-05\n",
       "SN35    3.575818e-05\n",
       "TSUN    2.919497e-05\n",
       "SN55    2.836514e-05\n",
       "SX55    2.836514e-05\n",
       "SX36    2.693179e-05\n",
       "PSUN    2.693179e-05\n",
       "SN36    1.780365e-05\n",
       "THIC    1.222115e-05\n",
       "SN56    8.826386e-06\n",
       "SX56    8.826386e-06\n",
       "WT07    4.375473e-06\n",
       "WT10    5.280744e-07\n",
       "DASF    1.508784e-07\n",
       "MDSF    1.508784e-07\n",
       "Name: measurement, dtype: float64"
      ]
     },
     "execution_count": 41,
     "metadata": {},
     "output_type": "execute_result"
    }
   ],
   "source": [
    "#using . notation\n",
    "weather.measurement.value_counts(normalize=True)"
   ]
  },
  {
   "cell_type": "code",
   "execution_count": 51,
   "metadata": {
    "collapsed": false
   },
   "outputs": [
    {
     "data": {
      "text/plain": [
       "3    SNOW\n",
       "4    SNWD\n",
       "5    TMAX\n",
       "6    TMIN\n",
       "7    PRCP\n",
       "8    TMAX\n",
       "9    TMIN\n",
       "Name: measurement, dtype: object"
      ]
     },
     "execution_count": 51,
     "metadata": {},
     "output_type": "execute_result"
    }
   ],
   "source": [
    "#subset by row index\n",
    "weather.measurement[3:10]"
   ]
  },
  {
   "cell_type": "code",
   "execution_count": 55,
   "metadata": {
    "collapsed": false
   },
   "outputs": [
    {
     "data": {
      "text/html": [
       "<div>\n",
       "<table border=\"1\" class=\"dataframe\">\n",
       "  <thead>\n",
       "    <tr style=\"text-align: right;\">\n",
       "      <th></th>\n",
       "      <th>measurement</th>\n",
       "      <th>value</th>\n",
       "    </tr>\n",
       "  </thead>\n",
       "  <tbody>\n",
       "    <tr>\n",
       "      <th>10</th>\n",
       "      <td>TOBS</td>\n",
       "      <td>-61</td>\n",
       "    </tr>\n",
       "    <tr>\n",
       "      <th>11</th>\n",
       "      <td>PRCP</td>\n",
       "      <td>0</td>\n",
       "    </tr>\n",
       "    <tr>\n",
       "      <th>12</th>\n",
       "      <td>SNWD</td>\n",
       "      <td>279</td>\n",
       "    </tr>\n",
       "    <tr>\n",
       "      <th>13</th>\n",
       "      <td>TAVG</td>\n",
       "      <td>-104</td>\n",
       "    </tr>\n",
       "    <tr>\n",
       "      <th>14</th>\n",
       "      <td>WESD</td>\n",
       "      <td>610</td>\n",
       "    </tr>\n",
       "    <tr>\n",
       "      <th>15</th>\n",
       "      <td>TMAX</td>\n",
       "      <td>22</td>\n",
       "    </tr>\n",
       "    <tr>\n",
       "      <th>16</th>\n",
       "      <td>TMIN</td>\n",
       "      <td>-89</td>\n",
       "    </tr>\n",
       "    <tr>\n",
       "      <th>17</th>\n",
       "      <td>TMAX</td>\n",
       "      <td>-11</td>\n",
       "    </tr>\n",
       "    <tr>\n",
       "      <th>18</th>\n",
       "      <td>TMIN</td>\n",
       "      <td>-161</td>\n",
       "    </tr>\n",
       "    <tr>\n",
       "      <th>19</th>\n",
       "      <td>TOBS</td>\n",
       "      <td>-156</td>\n",
       "    </tr>\n",
       "  </tbody>\n",
       "</table>\n",
       "</div>"
      ],
      "text/plain": [
       "   measurement  value\n",
       "10        TOBS    -61\n",
       "11        PRCP      0\n",
       "12        SNWD    279\n",
       "13        TAVG   -104\n",
       "14        WESD    610\n",
       "15        TMAX     22\n",
       "16        TMIN    -89\n",
       "17        TMAX    -11\n",
       "18        TMIN   -161\n",
       "19        TOBS   -156"
      ]
     },
     "execution_count": 55,
     "metadata": {},
     "output_type": "execute_result"
    }
   ],
   "source": [
    "#Use the iloc method \n",
    "weather.iloc[10:20,2:4]"
   ]
  },
  {
   "cell_type": "markdown",
   "metadata": {},
   "source": [
    "Now let's subset on row values."
   ]
  },
  {
   "cell_type": "code",
   "execution_count": 42,
   "metadata": {
    "collapsed": false
   },
   "outputs": [
    {
     "data": {
      "text/plain": [
       "0            True\n",
       "1           False\n",
       "2            True\n",
       "3           False\n",
       "4           False\n",
       "5           False\n",
       "6           False\n",
       "7            True\n",
       "8           False\n",
       "9           False\n",
       "10          False\n",
       "11           True\n",
       "12          False\n",
       "13          False\n",
       "14          False\n",
       "15          False\n",
       "16          False\n",
       "17          False\n",
       "18          False\n",
       "19          False\n",
       "20           True\n",
       "21          False\n",
       "22          False\n",
       "23          False\n",
       "24          False\n",
       "25           True\n",
       "26          False\n",
       "27           True\n",
       "28          False\n",
       "29          False\n",
       "            ...  \n",
       "13255679     True\n",
       "13255680    False\n",
       "13255681     True\n",
       "13255682    False\n",
       "13255683    False\n",
       "13255684    False\n",
       "13255685     True\n",
       "13255686     True\n",
       "13255687     True\n",
       "13255688    False\n",
       "13255689    False\n",
       "13255690    False\n",
       "13255691    False\n",
       "13255692    False\n",
       "13255693    False\n",
       "13255694     True\n",
       "13255695    False\n",
       "13255696    False\n",
       "13255697    False\n",
       "13255698    False\n",
       "13255699    False\n",
       "13255700    False\n",
       "13255701     True\n",
       "13255702    False\n",
       "13255703    False\n",
       "13255704    False\n",
       "13255705     True\n",
       "13255706    False\n",
       "13255707     True\n",
       "13255708    False\n",
       "Name: measurement, dtype: bool"
      ]
     },
     "execution_count": 42,
     "metadata": {},
     "output_type": "execute_result"
    }
   ],
   "source": [
    "#Create a boolean series based on a condition\n",
    "weather['measurement']=='PRCP'"
   ]
  },
  {
   "cell_type": "code",
   "execution_count": 44,
   "metadata": {
    "collapsed": false
   },
   "outputs": [
    {
     "data": {
      "text/html": [
       "<div>\n",
       "<table border=\"1\" class=\"dataframe\">\n",
       "  <thead>\n",
       "    <tr style=\"text-align: right;\">\n",
       "      <th></th>\n",
       "      <th>station_id</th>\n",
       "      <th>date</th>\n",
       "      <th>measurement</th>\n",
       "      <th>value</th>\n",
       "    </tr>\n",
       "  </thead>\n",
       "  <tbody>\n",
       "    <tr>\n",
       "      <th>0</th>\n",
       "      <td>US1FLSL0019</td>\n",
       "      <td>20160101</td>\n",
       "      <td>PRCP</td>\n",
       "      <td>3</td>\n",
       "    </tr>\n",
       "    <tr>\n",
       "      <th>2</th>\n",
       "      <td>USC00141761</td>\n",
       "      <td>20160101</td>\n",
       "      <td>PRCP</td>\n",
       "      <td>0</td>\n",
       "    </tr>\n",
       "    <tr>\n",
       "      <th>7</th>\n",
       "      <td>NOE00133566</td>\n",
       "      <td>20160101</td>\n",
       "      <td>PRCP</td>\n",
       "      <td>37</td>\n",
       "    </tr>\n",
       "    <tr>\n",
       "      <th>11</th>\n",
       "      <td>USS0018D08S</td>\n",
       "      <td>20160101</td>\n",
       "      <td>PRCP</td>\n",
       "      <td>0</td>\n",
       "    </tr>\n",
       "    <tr>\n",
       "      <th>20</th>\n",
       "      <td>USC00217184</td>\n",
       "      <td>20160101</td>\n",
       "      <td>PRCP</td>\n",
       "      <td>0</td>\n",
       "    </tr>\n",
       "  </tbody>\n",
       "</table>\n",
       "</div>"
      ],
      "text/plain": [
       "     station_id      date measurement  value\n",
       "0   US1FLSL0019  20160101        PRCP      3\n",
       "2   USC00141761  20160101        PRCP      0\n",
       "7   NOE00133566  20160101        PRCP     37\n",
       "11  USS0018D08S  20160101        PRCP      0\n",
       "20  USC00217184  20160101        PRCP      0"
      ]
     },
     "execution_count": 44,
     "metadata": {},
     "output_type": "execute_result"
    }
   ],
   "source": [
    "#now pass that series to the datafram to subset it\n",
    "rain = weather[weather['measurement']=='PRCP']\n",
    "rain.head()"
   ]
  },
  {
   "cell_type": "code",
   "execution_count": 49,
   "metadata": {
    "collapsed": false
   },
   "outputs": [
    {
     "name": "stderr",
     "output_type": "stream",
     "text": [
      "/Users/matthewgee/anaconda/lib/python2.7/site-packages/ipykernel/__main__.py:1: SettingWithCopyWarning: \n",
      "A value is trying to be set on a copy of a slice from a DataFrame\n",
      "\n",
      "See the caveats in the documentation: http://pandas.pydata.org/pandas-docs/stable/indexing.html#indexing-view-versus-copy\n",
      "  if __name__ == '__main__':\n"
     ]
    }
   ],
   "source": [
    "rain.sort_values('value', inplace=True, ascending=False)"
   ]
  },
  {
   "cell_type": "code",
   "execution_count": 50,
   "metadata": {
    "collapsed": false
   },
   "outputs": [
    {
     "data": {
      "text/html": [
       "<div>\n",
       "<table border=\"1\" class=\"dataframe\">\n",
       "  <thead>\n",
       "    <tr style=\"text-align: right;\">\n",
       "      <th></th>\n",
       "      <th>station_id</th>\n",
       "      <th>date</th>\n",
       "      <th>measurement</th>\n",
       "      <th>value</th>\n",
       "    </tr>\n",
       "  </thead>\n",
       "  <tbody>\n",
       "    <tr>\n",
       "      <th>10292284</th>\n",
       "      <td>ASN00040334</td>\n",
       "      <td>20160420</td>\n",
       "      <td>PRCP</td>\n",
       "      <td>11958</td>\n",
       "    </tr>\n",
       "    <tr>\n",
       "      <th>4922283</th>\n",
       "      <td>CA006012501</td>\n",
       "      <td>20160221</td>\n",
       "      <td>PRCP</td>\n",
       "      <td>9154</td>\n",
       "    </tr>\n",
       "    <tr>\n",
       "      <th>11826607</th>\n",
       "      <td>USS0017H07S</td>\n",
       "      <td>20160509</td>\n",
       "      <td>PRCP</td>\n",
       "      <td>8382</td>\n",
       "    </tr>\n",
       "    <tr>\n",
       "      <th>4365470</th>\n",
       "      <td>CA003013959</td>\n",
       "      <td>20160215</td>\n",
       "      <td>PRCP</td>\n",
       "      <td>6162</td>\n",
       "    </tr>\n",
       "    <tr>\n",
       "      <th>9346914</th>\n",
       "      <td>CA003013959</td>\n",
       "      <td>20160409</td>\n",
       "      <td>PRCP</td>\n",
       "      <td>6071</td>\n",
       "    </tr>\n",
       "  </tbody>\n",
       "</table>\n",
       "</div>"
      ],
      "text/plain": [
       "           station_id      date measurement  value\n",
       "10292284  ASN00040334  20160420        PRCP  11958\n",
       "4922283   CA006012501  20160221        PRCP   9154\n",
       "11826607  USS0017H07S  20160509        PRCP   8382\n",
       "4365470   CA003013959  20160215        PRCP   6162\n",
       "9346914   CA003013959  20160409        PRCP   6071"
      ]
     },
     "execution_count": 50,
     "metadata": {},
     "output_type": "execute_result"
    }
   ],
   "source": [
    "rain.head()"
   ]
  },
  {
   "cell_type": "code",
   "execution_count": 121,
   "metadata": {
    "collapsed": false
   },
   "outputs": [
    {
     "data": {
      "text/html": [
       "<div>\n",
       "<table border=\"1\" class=\"dataframe\">\n",
       "  <thead>\n",
       "    <tr style=\"text-align: right;\">\n",
       "      <th></th>\n",
       "      <th>station_id</th>\n",
       "      <th>date</th>\n",
       "      <th>measurement</th>\n",
       "      <th>value</th>\n",
       "    </tr>\n",
       "  </thead>\n",
       "  <tbody>\n",
       "    <tr>\n",
       "      <th>46919</th>\n",
       "      <td>USW00094846</td>\n",
       "      <td>20160101</td>\n",
       "      <td>TAVG</td>\n",
       "      <td>-48</td>\n",
       "    </tr>\n",
       "    <tr>\n",
       "      <th>141015</th>\n",
       "      <td>USW00094846</td>\n",
       "      <td>20160102</td>\n",
       "      <td>TAVG</td>\n",
       "      <td>-28</td>\n",
       "    </tr>\n",
       "    <tr>\n",
       "      <th>235700</th>\n",
       "      <td>USW00094846</td>\n",
       "      <td>20160103</td>\n",
       "      <td>TAVG</td>\n",
       "      <td>-29</td>\n",
       "    </tr>\n",
       "    <tr>\n",
       "      <th>332026</th>\n",
       "      <td>USW00094846</td>\n",
       "      <td>20160104</td>\n",
       "      <td>TAVG</td>\n",
       "      <td>-28</td>\n",
       "    </tr>\n",
       "    <tr>\n",
       "      <th>429426</th>\n",
       "      <td>USW00094846</td>\n",
       "      <td>20160105</td>\n",
       "      <td>TAVG</td>\n",
       "      <td>-36</td>\n",
       "    </tr>\n",
       "  </tbody>\n",
       "</table>\n",
       "</div>"
      ],
      "text/plain": [
       "         station_id      date measurement  value\n",
       "46919   USW00094846  20160101        TAVG    -48\n",
       "141015  USW00094846  20160102        TAVG    -28\n",
       "235700  USW00094846  20160103        TAVG    -29\n",
       "332026  USW00094846  20160104        TAVG    -28\n",
       "429426  USW00094846  20160105        TAVG    -36"
      ]
     },
     "execution_count": 121,
     "metadata": {},
     "output_type": "execute_result"
    }
   ],
   "source": [
    "#Let's create a chicago tempurature dataset\n",
    "chicago = weather[weather['station_id']=='USW00094846']\n",
    "chicago_temp = weather[(weather['measurement']=='TAVG') & (weather['station_id']=='USW00094846')]\n",
    "chicago_temp.head()"
   ]
  },
  {
   "cell_type": "code",
   "execution_count": 122,
   "metadata": {
    "collapsed": false
   },
   "outputs": [
    {
     "data": {
      "text/html": [
       "<div>\n",
       "<table border=\"1\" class=\"dataframe\">\n",
       "  <thead>\n",
       "    <tr style=\"text-align: right;\">\n",
       "      <th></th>\n",
       "      <th>station_id</th>\n",
       "      <th>date</th>\n",
       "      <th>measurement</th>\n",
       "      <th>value</th>\n",
       "    </tr>\n",
       "  </thead>\n",
       "  <tbody>\n",
       "    <tr>\n",
       "      <th>1678339</th>\n",
       "      <td>USW00094846</td>\n",
       "      <td>20160118</td>\n",
       "      <td>TAVG</td>\n",
       "      <td>-174</td>\n",
       "    </tr>\n",
       "    <tr>\n",
       "      <th>1005151</th>\n",
       "      <td>USW00094846</td>\n",
       "      <td>20160111</td>\n",
       "      <td>TAVG</td>\n",
       "      <td>-149</td>\n",
       "    </tr>\n",
       "    <tr>\n",
       "      <th>1775034</th>\n",
       "      <td>USW00094846</td>\n",
       "      <td>20160119</td>\n",
       "      <td>TAVG</td>\n",
       "      <td>-146</td>\n",
       "    </tr>\n",
       "    <tr>\n",
       "      <th>1200364</th>\n",
       "      <td>USW00094846</td>\n",
       "      <td>20160113</td>\n",
       "      <td>TAVG</td>\n",
       "      <td>-141</td>\n",
       "    </tr>\n",
       "    <tr>\n",
       "      <th>1583096</th>\n",
       "      <td>USW00094846</td>\n",
       "      <td>20160117</td>\n",
       "      <td>TAVG</td>\n",
       "      <td>-136</td>\n",
       "    </tr>\n",
       "  </tbody>\n",
       "</table>\n",
       "</div>"
      ],
      "text/plain": [
       "          station_id      date measurement  value\n",
       "1678339  USW00094846  20160118        TAVG   -174\n",
       "1005151  USW00094846  20160111        TAVG   -149\n",
       "1775034  USW00094846  20160119        TAVG   -146\n",
       "1200364  USW00094846  20160113        TAVG   -141\n",
       "1583096  USW00094846  20160117        TAVG   -136"
      ]
     },
     "execution_count": 122,
     "metadata": {},
     "output_type": "execute_result"
    }
   ],
   "source": [
    "chicago_temp.sort_values('value').head()"
   ]
  },
  {
   "cell_type": "code",
   "execution_count": 123,
   "metadata": {
    "collapsed": false
   },
   "outputs": [
    {
     "data": {
      "text/html": [
       "<div>\n",
       "<table border=\"1\" class=\"dataframe\">\n",
       "  <thead>\n",
       "    <tr style=\"text-align: right;\">\n",
       "      <th></th>\n",
       "      <th>station_id</th>\n",
       "      <th>date</th>\n",
       "      <th>measurement</th>\n",
       "      <th>value</th>\n",
       "    </tr>\n",
       "  </thead>\n",
       "  <tbody>\n",
       "    <tr>\n",
       "      <th>141015</th>\n",
       "      <td>USW00094846</td>\n",
       "      <td>20160102</td>\n",
       "      <td>TAVG</td>\n",
       "      <td>-28</td>\n",
       "    </tr>\n",
       "    <tr>\n",
       "      <th>235700</th>\n",
       "      <td>USW00094846</td>\n",
       "      <td>20160103</td>\n",
       "      <td>TAVG</td>\n",
       "      <td>-29</td>\n",
       "    </tr>\n",
       "    <tr>\n",
       "      <th>332026</th>\n",
       "      <td>USW00094846</td>\n",
       "      <td>20160104</td>\n",
       "      <td>TAVG</td>\n",
       "      <td>-28</td>\n",
       "    </tr>\n",
       "    <tr>\n",
       "      <th>429426</th>\n",
       "      <td>USW00094846</td>\n",
       "      <td>20160105</td>\n",
       "      <td>TAVG</td>\n",
       "      <td>-36</td>\n",
       "    </tr>\n",
       "    <tr>\n",
       "      <th>526497</th>\n",
       "      <td>USW00094846</td>\n",
       "      <td>20160106</td>\n",
       "      <td>TAVG</td>\n",
       "      <td>-21</td>\n",
       "    </tr>\n",
       "  </tbody>\n",
       "</table>\n",
       "</div>"
      ],
      "text/plain": [
       "         station_id      date measurement  value\n",
       "141015  USW00094846  20160102        TAVG    -28\n",
       "235700  USW00094846  20160103        TAVG    -29\n",
       "332026  USW00094846  20160104        TAVG    -28\n",
       "429426  USW00094846  20160105        TAVG    -36\n",
       "526497  USW00094846  20160106        TAVG    -21"
      ]
     },
     "execution_count": 123,
     "metadata": {},
     "output_type": "execute_result"
    }
   ],
   "source": [
    "chicago_temp = chicago_temp[chicago_temp.value>-40]\n",
    "chicago_temp.head()"
   ]
  },
  {
   "cell_type": "markdown",
   "metadata": {},
   "source": [
    "## Applying functions to series and creating new columns"
   ]
  },
  {
   "cell_type": "code",
   "execution_count": 124,
   "metadata": {
    "collapsed": false
   },
   "outputs": [
    {
     "data": {
      "text/plain": [
       "73.518796992481199"
      ]
     },
     "execution_count": 124,
     "metadata": {},
     "output_type": "execute_result"
    }
   ],
   "source": [
    "chicago_temp.value.mean()"
   ]
  },
  {
   "cell_type": "code",
   "execution_count": 125,
   "metadata": {
    "collapsed": false
   },
   "outputs": [
    {
     "data": {
      "text/plain": [
       "count    133.000000\n",
       "mean      73.518797\n",
       "std       71.502977\n",
       "min      -36.000000\n",
       "25%       18.000000\n",
       "50%       68.000000\n",
       "75%      122.000000\n",
       "max      244.000000\n",
       "Name: value, dtype: float64"
      ]
     },
     "execution_count": 125,
     "metadata": {},
     "output_type": "execute_result"
    }
   ],
   "source": [
    "chicago_temp.value.describe()"
   ]
  },
  {
   "cell_type": "code",
   "execution_count": 126,
   "metadata": {
    "collapsed": false
   },
   "outputs": [
    {
     "data": {
      "text/html": [
       "<div>\n",
       "<table border=\"1\" class=\"dataframe\">\n",
       "  <thead>\n",
       "    <tr style=\"text-align: right;\">\n",
       "      <th></th>\n",
       "      <th>date</th>\n",
       "      <th>value</th>\n",
       "      <th>TAVG_CEL</th>\n",
       "    </tr>\n",
       "  </thead>\n",
       "  <tbody>\n",
       "    <tr>\n",
       "      <th>count</th>\n",
       "      <td>1.330000e+02</td>\n",
       "      <td>133.000000</td>\n",
       "      <td>133.000000</td>\n",
       "    </tr>\n",
       "    <tr>\n",
       "      <th>mean</th>\n",
       "      <td>2.016034e+07</td>\n",
       "      <td>73.518797</td>\n",
       "      <td>22.639098</td>\n",
       "    </tr>\n",
       "    <tr>\n",
       "      <th>std</th>\n",
       "      <td>1.374909e+02</td>\n",
       "      <td>71.502977</td>\n",
       "      <td>39.713813</td>\n",
       "    </tr>\n",
       "    <tr>\n",
       "      <th>min</th>\n",
       "      <td>2.016010e+07</td>\n",
       "      <td>-36.000000</td>\n",
       "      <td>-38.000000</td>\n",
       "    </tr>\n",
       "    <tr>\n",
       "      <th>25%</th>\n",
       "      <td>2.016022e+07</td>\n",
       "      <td>18.000000</td>\n",
       "      <td>-8.000000</td>\n",
       "    </tr>\n",
       "    <tr>\n",
       "      <th>50%</th>\n",
       "      <td>2.016033e+07</td>\n",
       "      <td>68.000000</td>\n",
       "      <td>20.000000</td>\n",
       "    </tr>\n",
       "    <tr>\n",
       "      <th>75%</th>\n",
       "      <td>2.016043e+07</td>\n",
       "      <td>122.000000</td>\n",
       "      <td>50.000000</td>\n",
       "    </tr>\n",
       "    <tr>\n",
       "      <th>max</th>\n",
       "      <td>2.016053e+07</td>\n",
       "      <td>244.000000</td>\n",
       "      <td>117.000000</td>\n",
       "    </tr>\n",
       "  </tbody>\n",
       "</table>\n",
       "</div>"
      ],
      "text/plain": [
       "               date       value    TAVG_CEL\n",
       "count  1.330000e+02  133.000000  133.000000\n",
       "mean   2.016034e+07   73.518797   22.639098\n",
       "std    1.374909e+02   71.502977   39.713813\n",
       "min    2.016010e+07  -36.000000  -38.000000\n",
       "25%    2.016022e+07   18.000000   -8.000000\n",
       "50%    2.016033e+07   68.000000   20.000000\n",
       "75%    2.016043e+07  122.000000   50.000000\n",
       "max    2.016053e+07  244.000000  117.000000"
      ]
     },
     "execution_count": 126,
     "metadata": {},
     "output_type": "execute_result"
    }
   ],
   "source": [
    "#Apply user defined functions\n",
    "def ftoc(temp_f):\n",
    "    return (temp_f-32)*5/9\n",
    "\n",
    "chicago_temp['TAVG_CEL']=chicago_temp.value.apply(ftoc)\n",
    "chicago_temp.describe()"
   ]
  },
  {
   "cell_type": "markdown",
   "metadata": {},
   "source": [
    "Convert strings to datetime values"
   ]
  },
  {
   "cell_type": "code",
   "execution_count": 130,
   "metadata": {
    "collapsed": false
   },
   "outputs": [
    {
     "data": {
      "text/plain": [
       "station_id             object\n",
       "date                    int64\n",
       "measurement            object\n",
       "value                   int64\n",
       "TAVG_CEL                int64\n",
       "datetime       datetime64[ns]\n",
       "dtype: object"
      ]
     },
     "execution_count": 130,
     "metadata": {},
     "output_type": "execute_result"
    }
   ],
   "source": [
    "chicago_temp['datetime'] = pd.to_datetime(chicago_temp.date, format='%Y%m%d')\n",
    "chicago_temp.dtypes"
   ]
  },
  {
   "cell_type": "markdown",
   "metadata": {},
   "source": [
    "Now we can plot the series with ease!"
   ]
  },
  {
   "cell_type": "code",
   "execution_count": 131,
   "metadata": {
    "collapsed": false
   },
   "outputs": [
    {
     "data": {
      "text/html": [
       "<div>\n",
       "<table border=\"1\" class=\"dataframe\">\n",
       "  <thead>\n",
       "    <tr style=\"text-align: right;\">\n",
       "      <th></th>\n",
       "      <th>station_id</th>\n",
       "      <th>date</th>\n",
       "      <th>measurement</th>\n",
       "      <th>value</th>\n",
       "      <th>TAVG_CEL</th>\n",
       "      <th>datetime</th>\n",
       "    </tr>\n",
       "  </thead>\n",
       "  <tbody>\n",
       "    <tr>\n",
       "      <th>141015</th>\n",
       "      <td>USW00094846</td>\n",
       "      <td>20160102</td>\n",
       "      <td>TAVG</td>\n",
       "      <td>-28</td>\n",
       "      <td>-34</td>\n",
       "      <td>2016-01-02</td>\n",
       "    </tr>\n",
       "    <tr>\n",
       "      <th>235700</th>\n",
       "      <td>USW00094846</td>\n",
       "      <td>20160103</td>\n",
       "      <td>TAVG</td>\n",
       "      <td>-29</td>\n",
       "      <td>-34</td>\n",
       "      <td>2016-01-03</td>\n",
       "    </tr>\n",
       "    <tr>\n",
       "      <th>332026</th>\n",
       "      <td>USW00094846</td>\n",
       "      <td>20160104</td>\n",
       "      <td>TAVG</td>\n",
       "      <td>-28</td>\n",
       "      <td>-34</td>\n",
       "      <td>2016-01-04</td>\n",
       "    </tr>\n",
       "    <tr>\n",
       "      <th>429426</th>\n",
       "      <td>USW00094846</td>\n",
       "      <td>20160105</td>\n",
       "      <td>TAVG</td>\n",
       "      <td>-36</td>\n",
       "      <td>-38</td>\n",
       "      <td>2016-01-05</td>\n",
       "    </tr>\n",
       "    <tr>\n",
       "      <th>526497</th>\n",
       "      <td>USW00094846</td>\n",
       "      <td>20160106</td>\n",
       "      <td>TAVG</td>\n",
       "      <td>-21</td>\n",
       "      <td>-30</td>\n",
       "      <td>2016-01-06</td>\n",
       "    </tr>\n",
       "  </tbody>\n",
       "</table>\n",
       "</div>"
      ],
      "text/plain": [
       "         station_id      date measurement  value  TAVG_CEL   datetime\n",
       "141015  USW00094846  20160102        TAVG    -28       -34 2016-01-02\n",
       "235700  USW00094846  20160103        TAVG    -29       -34 2016-01-03\n",
       "332026  USW00094846  20160104        TAVG    -28       -34 2016-01-04\n",
       "429426  USW00094846  20160105        TAVG    -36       -38 2016-01-05\n",
       "526497  USW00094846  20160106        TAVG    -21       -30 2016-01-06"
      ]
     },
     "execution_count": 131,
     "metadata": {},
     "output_type": "execute_result"
    }
   ],
   "source": [
    "chicago_temp.head()"
   ]
  },
  {
   "cell_type": "markdown",
   "metadata": {},
   "source": [
    "## Groupby!\n",
    "Groupby is a powerful method that makes it easy to peform operations on the dataframe by categorial values. Let's try generating a plot of min, max, and average temp over time."
   ]
  },
  {
   "cell_type": "code",
   "execution_count": 132,
   "metadata": {
    "collapsed": false
   },
   "outputs": [
    {
     "data": {
      "text/plain": [
       "TAVG    152\n",
       "TMAX    150\n",
       "TMIN    150\n",
       "Name: measurement, dtype: int64"
      ]
     },
     "execution_count": 132,
     "metadata": {},
     "output_type": "execute_result"
    }
   ],
   "source": [
    "chicago_temps = chicago[chicago.measurement.isin(['TMAX','TMIN','TAVG'])]\n",
    "chicago_temps.measurement.value_counts()"
   ]
  },
  {
   "cell_type": "code",
   "execution_count": 133,
   "metadata": {
    "collapsed": false
   },
   "outputs": [
    {
     "data": {
      "text/plain": [
       "measurement\n",
       "TAVG    52.006579\n",
       "TMAX    95.833333\n",
       "TMIN     2.833333\n",
       "Name: value, dtype: float64"
      ]
     },
     "execution_count": 133,
     "metadata": {},
     "output_type": "execute_result"
    }
   ],
   "source": [
    "chicago_temps.groupby('measurement').value.mean()"
   ]
  },
  {
   "cell_type": "code",
   "execution_count": 134,
   "metadata": {
    "collapsed": false
   },
   "outputs": [
    {
     "data": {
      "text/html": [
       "<div>\n",
       "<table border=\"1\" class=\"dataframe\">\n",
       "  <thead>\n",
       "    <tr style=\"text-align: right;\">\n",
       "      <th></th>\n",
       "      <th>count</th>\n",
       "      <th>min</th>\n",
       "      <th>max</th>\n",
       "      <th>mean</th>\n",
       "    </tr>\n",
       "    <tr>\n",
       "      <th>measurement</th>\n",
       "      <th></th>\n",
       "      <th></th>\n",
       "      <th></th>\n",
       "      <th></th>\n",
       "    </tr>\n",
       "  </thead>\n",
       "  <tbody>\n",
       "    <tr>\n",
       "      <th>TAVG</th>\n",
       "      <td>152</td>\n",
       "      <td>-174</td>\n",
       "      <td>244</td>\n",
       "      <td>52.006579</td>\n",
       "    </tr>\n",
       "    <tr>\n",
       "      <th>TMAX</th>\n",
       "      <td>150</td>\n",
       "      <td>-138</td>\n",
       "      <td>300</td>\n",
       "      <td>95.833333</td>\n",
       "    </tr>\n",
       "    <tr>\n",
       "      <th>TMIN</th>\n",
       "      <td>150</td>\n",
       "      <td>-199</td>\n",
       "      <td>189</td>\n",
       "      <td>2.833333</td>\n",
       "    </tr>\n",
       "  </tbody>\n",
       "</table>\n",
       "</div>"
      ],
      "text/plain": [
       "             count  min  max       mean\n",
       "measurement                            \n",
       "TAVG           152 -174  244  52.006579\n",
       "TMAX           150 -138  300  95.833333\n",
       "TMIN           150 -199  189   2.833333"
      ]
     },
     "execution_count": 134,
     "metadata": {},
     "output_type": "execute_result"
    }
   ],
   "source": [
    "chicago_temps.groupby('measurement').value.agg(['count','min','max','mean'])"
   ]
  },
  {
   "cell_type": "code",
   "execution_count": 135,
   "metadata": {
    "collapsed": false
   },
   "outputs": [
    {
     "data": {
      "text/plain": [
       "<matplotlib.axes._subplots.AxesSubplot at 0x110a5ac90>"
      ]
     },
     "execution_count": 135,
     "metadata": {},
     "output_type": "execute_result"
    },
    {
     "data": {
      "image/png": "[encoded data removed]",
      "text/plain": [
       "<matplotlib.figure.Figure at 0x10ff16f10>"
      ]
     },
     "metadata": {},
     "output_type": "display_data"
    }
   ],
   "source": [
    "chicago_temps.groupby('measurement').value.mean().plot(kind='bar')"
   ]
  },
  {
   "cell_type": "code",
   "execution_count": 136,
   "metadata": {
    "collapsed": false
   },
   "outputs": [
    {
     "data": {
      "text/plain": [
       "<matplotlib.axes._subplots.AxesSubplot at 0x110a5a490>"
      ]
     },
     "execution_count": 136,
     "metadata": {},
     "output_type": "execute_result"
    },
    {
     "data": {
      "image/png": "[encoded data removed]",
      "text/plain": [
       "<matplotlib.figure.Figure at 0x110de50d0>"
      ]
     },
     "metadata": {},
     "output_type": "display_data"
    }
   ],
   "source": [
    "chicago_temps.value.plot()"
   ]
  },
  {
   "cell_type": "code",
   "execution_count": 138,
   "metadata": {
    "collapsed": false
   },
   "outputs": [
    {
     "name": "stderr",
     "output_type": "stream",
     "text": [
      "/Users/matthewgee/anaconda/lib/python2.7/site-packages/ipykernel/__main__.py:1: SettingWithCopyWarning: \n",
      "A value is trying to be set on a copy of a slice from a DataFrame.\n",
      "Try using .loc[row_indexer,col_indexer] = value instead\n",
      "\n",
      "See the caveats in the documentation: http://pandas.pydata.org/pandas-docs/stable/indexing.html#indexing-view-versus-copy\n",
      "  if __name__ == '__main__':\n"
     ]
    },
    {
     "data": {
      "text/html": [
       "<div>\n",
       "<table border=\"1\" class=\"dataframe\">\n",
       "  <thead>\n",
       "    <tr style=\"text-align: right;\">\n",
       "      <th></th>\n",
       "      <th>station_id</th>\n",
       "      <th>date</th>\n",
       "      <th>measurement</th>\n",
       "      <th>value</th>\n",
       "      <th>datetime</th>\n",
       "    </tr>\n",
       "    <tr>\n",
       "      <th>date</th>\n",
       "      <th></th>\n",
       "      <th></th>\n",
       "      <th></th>\n",
       "      <th></th>\n",
       "      <th></th>\n",
       "    </tr>\n",
       "  </thead>\n",
       "  <tbody>\n",
       "    <tr>\n",
       "      <th>2016-01-01</th>\n",
       "      <td>USW00094846</td>\n",
       "      <td>20160101</td>\n",
       "      <td>TMAX</td>\n",
       "      <td>-5</td>\n",
       "      <td>2016-01-01</td>\n",
       "    </tr>\n",
       "    <tr>\n",
       "      <th>2016-01-01</th>\n",
       "      <td>USW00094846</td>\n",
       "      <td>20160101</td>\n",
       "      <td>TMIN</td>\n",
       "      <td>-71</td>\n",
       "      <td>2016-01-01</td>\n",
       "    </tr>\n",
       "    <tr>\n",
       "      <th>2016-01-01</th>\n",
       "      <td>USW00094846</td>\n",
       "      <td>20160101</td>\n",
       "      <td>TAVG</td>\n",
       "      <td>-48</td>\n",
       "      <td>2016-01-01</td>\n",
       "    </tr>\n",
       "    <tr>\n",
       "      <th>2016-01-02</th>\n",
       "      <td>USW00094846</td>\n",
       "      <td>20160102</td>\n",
       "      <td>TMAX</td>\n",
       "      <td>0</td>\n",
       "      <td>2016-01-02</td>\n",
       "    </tr>\n",
       "    <tr>\n",
       "      <th>2016-01-02</th>\n",
       "      <td>USW00094846</td>\n",
       "      <td>20160102</td>\n",
       "      <td>TMIN</td>\n",
       "      <td>-66</td>\n",
       "      <td>2016-01-02</td>\n",
       "    </tr>\n",
       "  </tbody>\n",
       "</table>\n",
       "</div>"
      ],
      "text/plain": [
       "             station_id      date measurement  value   datetime\n",
       "date                                                           \n",
       "2016-01-01  USW00094846  20160101        TMAX     -5 2016-01-01\n",
       "2016-01-01  USW00094846  20160101        TMIN    -71 2016-01-01\n",
       "2016-01-01  USW00094846  20160101        TAVG    -48 2016-01-01\n",
       "2016-01-02  USW00094846  20160102        TMAX      0 2016-01-02\n",
       "2016-01-02  USW00094846  20160102        TMIN    -66 2016-01-02"
      ]
     },
     "execution_count": 138,
     "metadata": {},
     "output_type": "execute_result"
    }
   ],
   "source": [
    "chicago_temps['datetime'] = pd.to_datetime(chicago_temps.date, format='%Y%m%d')\n",
    "chicago_temps.index = chicago_temps.datetime\n",
    "chicago_temps.dtypes\n",
    "chicago_temps.head()"
   ]
  },
  {
   "cell_type": "code",
   "execution_count": 141,
   "metadata": {
    "collapsed": false
   },
   "outputs": [
    {
     "data": {
      "text/plain": [
       "measurement\n",
       "TAVG    Axes(0.125,0.125;0.775x0.775)\n",
       "TMAX    Axes(0.125,0.125;0.775x0.775)\n",
       "TMIN    Axes(0.125,0.125;0.775x0.775)\n",
       "Name: value, dtype: object"
      ]
     },
     "execution_count": 141,
     "metadata": {},
     "output_type": "execute_result"
    },
    {
     "data": {
      "image/png": "[encoded data removed]",
      "text/plain": [
       "<matplotlib.figure.Figure at 0x1112c0290>"
      ]
     },
     "metadata": {},
     "output_type": "display_data"
    }
   ],
   "source": [
    "chicago_temps.groupby('measurement').value.plot(figsize=(15,5))"
   ]
  },
  {
   "cell_type": "code",
   "execution_count": null,
   "metadata": {
    "collapsed": true
   },
   "outputs": [],
   "source": []
  }
 ],
 "metadata": {
  "kernelspec": {
   "display_name": "Python 2",
   "language": "python",
   "name": "python2"
  },
  "language_info": {
   "codemirror_mode": {
    "name": "ipython",
    "version": 2
   },
   "file_extension": ".py",
   "mimetype": "text/x-python",
   "name": "python",
   "nbconvert_exporter": "python",
   "pygments_lexer": "ipython2",
   "version": "2.7.11"
  }
 },
 "nbformat": 4,
 "nbformat_minor": 0
}
